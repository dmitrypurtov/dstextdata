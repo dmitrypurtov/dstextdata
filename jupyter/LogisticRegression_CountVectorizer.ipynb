{
 "cells": [
  {
   "cell_type": "code",
   "execution_count": 57,
   "metadata": {},
   "outputs": [],
   "source": [
    "import json\n",
    "import pickle\n",
    "import pandas as pd\n",
    "import numpy as np\n",
    "import matplotlib.pyplot as plt\n",
    "from scipy.sparse import csr_matrix\n",
    "\n",
    "from sklearn.model_selection import GridSearchCV\n",
    "from sklearn.feature_extraction.text import CountVectorizer\n",
    "from sklearn.feature_extraction.text import TfidfVectorizer\n",
    "from sklearn.decomposition import PCA\n",
    "from sklearn.linear_model import LogisticRegression\n",
    "from sklearn.svm import LinearSVC\n",
    "from sklearn.metrics import roc_auc_score\n",
    "from sklearn.model_selection import learning_curve\n",
    "from sklearn.pipeline import Pipeline\n",
    "from sklearn.preprocessing import PolynomialFeatures\n",
    "from sklearn.model_selection import validation_curve\n",
    "from sklearn.preprocessing import StandardScaler"
   ]
  },
  {
   "cell_type": "markdown",
   "metadata": {},
   "source": [
    "### Подготовка данных"
   ]
  },
  {
   "cell_type": "markdown",
   "metadata": {},
   "source": [
    "##### Получение данных для анализа"
   ]
  },
  {
   "cell_type": "code",
   "execution_count": 61,
   "metadata": {},
   "outputs": [
    {
     "data": {
      "text/html": [
       "<div>\n",
       "<style scoped>\n",
       "    .dataframe tbody tr th:only-of-type {\n",
       "        vertical-align: middle;\n",
       "    }\n",
       "\n",
       "    .dataframe tbody tr th {\n",
       "        vertical-align: top;\n",
       "    }\n",
       "\n",
       "    .dataframe thead th {\n",
       "        text-align: right;\n",
       "    }\n",
       "</style>\n",
       "<table border=\"1\" class=\"dataframe\">\n",
       "  <thead>\n",
       "    <tr style=\"text-align: right;\">\n",
       "      <th></th>\n",
       "      <th>Stylist</th>\n",
       "      <th>Visagiste</th>\n",
       "      <th>Unknown</th>\n",
       "      <th>Skilled</th>\n",
       "      <th>Advertising</th>\n",
       "      <th>Clip</th>\n",
       "      <th>Мale</th>\n",
       "      <th>Fashionshow</th>\n",
       "      <th>Videoshooting</th>\n",
       "      <th>Male</th>\n",
       "      <th>Photographer</th>\n",
       "      <th>Model</th>\n",
       "      <th>TVShow</th>\n",
       "      <th>Female</th>\n",
       "      <th>Photoshooting</th>\n",
       "      <th>Casting</th>\n",
       "      <th>Text</th>\n",
       "    </tr>\n",
       "  </thead>\n",
       "  <tbody>\n",
       "    <tr>\n",
       "      <th>0</th>\n",
       "      <td>0</td>\n",
       "      <td>0</td>\n",
       "      <td>1</td>\n",
       "      <td>0</td>\n",
       "      <td>0</td>\n",
       "      <td>0</td>\n",
       "      <td>0</td>\n",
       "      <td>0</td>\n",
       "      <td>0</td>\n",
       "      <td>0</td>\n",
       "      <td>0</td>\n",
       "      <td>0</td>\n",
       "      <td>0</td>\n",
       "      <td>0</td>\n",
       "      <td>0</td>\n",
       "      <td>0</td>\n",
       "      <td>мужчин актер съемок клип съемк клип ищ геро му...</td>\n",
       "    </tr>\n",
       "    <tr>\n",
       "      <th>1</th>\n",
       "      <td>0</td>\n",
       "      <td>0</td>\n",
       "      <td>1</td>\n",
       "      <td>0</td>\n",
       "      <td>0</td>\n",
       "      <td>0</td>\n",
       "      <td>0</td>\n",
       "      <td>0</td>\n",
       "      <td>0</td>\n",
       "      <td>0</td>\n",
       "      <td>0</td>\n",
       "      <td>0</td>\n",
       "      <td>0</td>\n",
       "      <td>0</td>\n",
       "      <td>0</td>\n",
       "      <td>0</td>\n",
       "      <td>вниман москв т взлет ориентировочн девушк лет ...</td>\n",
       "    </tr>\n",
       "    <tr>\n",
       "      <th>2</th>\n",
       "      <td>0</td>\n",
       "      <td>0</td>\n",
       "      <td>1</td>\n",
       "      <td>0</td>\n",
       "      <td>0</td>\n",
       "      <td>0</td>\n",
       "      <td>0</td>\n",
       "      <td>0</td>\n",
       "      <td>0</td>\n",
       "      <td>0</td>\n",
       "      <td>0</td>\n",
       "      <td>0</td>\n",
       "      <td>0</td>\n",
       "      <td>0</td>\n",
       "      <td>0</td>\n",
       "      <td>0</td>\n",
       "      <td>х ф данил козловск пада аист мужчин лет рост р...</td>\n",
       "    </tr>\n",
       "    <tr>\n",
       "      <th>3</th>\n",
       "      <td>0</td>\n",
       "      <td>0</td>\n",
       "      <td>1</td>\n",
       "      <td>0</td>\n",
       "      <td>0</td>\n",
       "      <td>0</td>\n",
       "      <td>0</td>\n",
       "      <td>0</td>\n",
       "      <td>0</td>\n",
       "      <td>0</td>\n",
       "      <td>0</td>\n",
       "      <td>0</td>\n",
       "      <td>0</td>\n",
       "      <td>0</td>\n",
       "      <td>0</td>\n",
       "      <td>0</td>\n",
       "      <td>нов шанс попаст кастинг супер телевикторин уга...</td>\n",
       "    </tr>\n",
       "    <tr>\n",
       "      <th>4</th>\n",
       "      <td>0</td>\n",
       "      <td>0</td>\n",
       "      <td>1</td>\n",
       "      <td>0</td>\n",
       "      <td>0</td>\n",
       "      <td>0</td>\n",
       "      <td>0</td>\n",
       "      <td>0</td>\n",
       "      <td>0</td>\n",
       "      <td>0</td>\n",
       "      <td>0</td>\n",
       "      <td>0</td>\n",
       "      <td>0</td>\n",
       "      <td>0</td>\n",
       "      <td>0</td>\n",
       "      <td>0</td>\n",
       "      <td>кастинг июл девушек размер одежд парн работ ию...</td>\n",
       "    </tr>\n",
       "  </tbody>\n",
       "</table>\n",
       "</div>"
      ],
      "text/plain": [
       "   Stylist  Visagiste  Unknown  Skilled  Advertising  Clip  Мale  Fashionshow  \\\n",
       "0        0          0        1        0            0     0     0            0   \n",
       "1        0          0        1        0            0     0     0            0   \n",
       "2        0          0        1        0            0     0     0            0   \n",
       "3        0          0        1        0            0     0     0            0   \n",
       "4        0          0        1        0            0     0     0            0   \n",
       "\n",
       "   Videoshooting  Male  Photographer  Model  TVShow  Female  Photoshooting  \\\n",
       "0              0     0             0      0       0       0              0   \n",
       "1              0     0             0      0       0       0              0   \n",
       "2              0     0             0      0       0       0              0   \n",
       "3              0     0             0      0       0       0              0   \n",
       "4              0     0             0      0       0       0              0   \n",
       "\n",
       "   Casting                                               Text  \n",
       "0        0  мужчин актер съемок клип съемк клип ищ геро му...  \n",
       "1        0  вниман москв т взлет ориентировочн девушк лет ...  \n",
       "2        0  х ф данил козловск пада аист мужчин лет рост р...  \n",
       "3        0  нов шанс попаст кастинг супер телевикторин уга...  \n",
       "4        0  кастинг июл девушек размер одежд парн работ ию...  "
      ]
     },
     "execution_count": 61,
     "metadata": {},
     "output_type": "execute_result"
    }
   ],
   "source": [
    "#PATH_DATA = './data/data_part.json'\n",
    "PATH_DATA = './data/data.json'\n",
    "PATH_MODEL = './data/model__logistic_regression'\n",
    "\n",
    "\n",
    "dataRead = []\n",
    "with open(PATH_DATA, 'r', encoding='utf-8') as jsonfile:    \n",
    "    dataRead = json.load(jsonfile)\n",
    "    \n",
    "data = pd.DataFrame(data=dataRead)\n",
    "data.head()"
   ]
  },
  {
   "cell_type": "markdown",
   "metadata": {},
   "source": [
    "##### Получение целевого признака data_y"
   ]
  },
  {
   "cell_type": "code",
   "execution_count": 62,
   "metadata": {},
   "outputs": [
    {
     "data": {
      "text/plain": [
       "0    4787\n",
       "1     549\n",
       "Name: TVShow, dtype: int64"
      ]
     },
     "execution_count": 62,
     "metadata": {},
     "output_type": "execute_result"
    }
   ],
   "source": [
    "columns = 'TVShow'\n",
    "data_y = data[columns]\n",
    "data_y.value_counts()"
   ]
  },
  {
   "cell_type": "markdown",
   "metadata": {},
   "source": [
    "##### Получение данных для обучения data_x"
   ]
  },
  {
   "cell_type": "code",
   "execution_count": 63,
   "metadata": {},
   "outputs": [
    {
     "data": {
      "text/plain": [
       "(5336,)"
      ]
     },
     "execution_count": 63,
     "metadata": {},
     "output_type": "execute_result"
    }
   ],
   "source": [
    "data_x = data['Text']\n",
    "data_x.shape"
   ]
  },
  {
   "cell_type": "markdown",
   "metadata": {},
   "source": [
    "##### Разделение данных на train_x,train_y и test_x,test_y"
   ]
  },
  {
   "cell_type": "code",
   "execution_count": 64,
   "metadata": {},
   "outputs": [],
   "source": [
    "TRAIN_PERCENT = 70\n",
    "delimiter = int(len(data_y) * TRAIN_PERCENT / 100)\n",
    "\n",
    "train_x = data_x[:delimiter]\n",
    "test_x = data_x[delimiter:]\n",
    "train_y = data_y[:delimiter]\n",
    "test_y = data_y[delimiter:]"
   ]
  },
  {
   "cell_type": "markdown",
   "metadata": {},
   "source": [
    "### Логистическая регрессия с преобразование текста CountVectorizer"
   ]
  },
  {
   "cell_type": "code",
   "execution_count": 69,
   "metadata": {},
   "outputs": [],
   "source": [
    "model_vectorizer = CountVectorizer()\n",
    "vectorizer = model_vectorizer.fit(train_x)\n",
    "feature_names = model_vectorizer.get_feature_names()"
   ]
  },
  {
   "cell_type": "code",
   "execution_count": 70,
   "metadata": {},
   "outputs": [
    {
     "data": {
      "text/plain": [
       "0       мужчин актер съемок клип съемк клип ищ геро му...\n",
       "1       вниман москв т взлет ориентировочн девушк лет ...\n",
       "2       х ф данил козловск пада аист мужчин лет рост р...\n",
       "3       нов шанс попаст кастинг супер телевикторин уга...\n",
       "4       кастинг июл девушек размер одежд парн работ ию...\n",
       "                              ...                        \n",
       "3730    съемк социальн рекламн ролик ищ профессиональн...\n",
       "3731    хочеш стат нов кинозвезд голливуд блиста одн к...\n",
       "3732    благотворительн конкурс красот мисс благотвори...\n",
       "3733    москв нов сериа рол сер ищ игров женщин азиатк...\n",
       "3734    зрител зал феврал канал стс старт нов семейн ш...\n",
       "Name: Text, Length: 3735, dtype: object"
      ]
     },
     "execution_count": 70,
     "metadata": {},
     "output_type": "execute_result"
    }
   ],
   "source": [
    "train_x"
   ]
  },
  {
   "cell_type": "markdown",
   "metadata": {},
   "source": [
    "##### Подготовка данных"
   ]
  },
  {
   "cell_type": "code",
   "execution_count": 71,
   "metadata": {},
   "outputs": [],
   "source": [
    "train_x = pd.DataFrame(data=vectorizer.transform(train_x).toarray(), columns=feature_names)\n",
    "train_y = train_y \n",
    "\n",
    "test_x = pd.DataFrame(data=vectorizer.transform(test_x).toarray(), columns=feature_names)\n",
    "test_y = test_y"
   ]
  },
  {
   "cell_type": "code",
   "execution_count": 72,
   "metadata": {},
   "outputs": [
    {
     "data": {
      "text/html": [
       "<div>\n",
       "<style scoped>\n",
       "    .dataframe tbody tr th:only-of-type {\n",
       "        vertical-align: middle;\n",
       "    }\n",
       "\n",
       "    .dataframe tbody tr th {\n",
       "        vertical-align: top;\n",
       "    }\n",
       "\n",
       "    .dataframe thead th {\n",
       "        text-align: right;\n",
       "    }\n",
       "</style>\n",
       "<table border=\"1\" class=\"dataframe\">\n",
       "  <thead>\n",
       "    <tr style=\"text-align: right;\">\n",
       "      <th></th>\n",
       "      <th>аар</th>\n",
       "      <th>аб</th>\n",
       "      <th>аббревиатур</th>\n",
       "      <th>абзац</th>\n",
       "      <th>абитуриент</th>\n",
       "      <th>абонемент</th>\n",
       "      <th>абортниц</th>\n",
       "      <th>абракадабр</th>\n",
       "      <th>абрам</th>\n",
       "      <th>абрамович</th>\n",
       "      <th>...</th>\n",
       "      <th>ясенев</th>\n",
       "      <th>ясик</th>\n",
       "      <th>ясн</th>\n",
       "      <th>ясновидя</th>\n",
       "      <th>ясност</th>\n",
       "      <th>ясст</th>\n",
       "      <th>ястржембск</th>\n",
       "      <th>яуз</th>\n",
       "      <th>яхт</th>\n",
       "      <th>ящик</th>\n",
       "    </tr>\n",
       "  </thead>\n",
       "  <tbody>\n",
       "    <tr>\n",
       "      <th>0</th>\n",
       "      <td>0</td>\n",
       "      <td>0</td>\n",
       "      <td>0</td>\n",
       "      <td>0</td>\n",
       "      <td>0</td>\n",
       "      <td>0</td>\n",
       "      <td>0</td>\n",
       "      <td>0</td>\n",
       "      <td>0</td>\n",
       "      <td>0</td>\n",
       "      <td>...</td>\n",
       "      <td>0</td>\n",
       "      <td>0</td>\n",
       "      <td>0</td>\n",
       "      <td>0</td>\n",
       "      <td>0</td>\n",
       "      <td>0</td>\n",
       "      <td>0</td>\n",
       "      <td>0</td>\n",
       "      <td>0</td>\n",
       "      <td>0</td>\n",
       "    </tr>\n",
       "    <tr>\n",
       "      <th>1</th>\n",
       "      <td>0</td>\n",
       "      <td>0</td>\n",
       "      <td>0</td>\n",
       "      <td>0</td>\n",
       "      <td>0</td>\n",
       "      <td>0</td>\n",
       "      <td>0</td>\n",
       "      <td>0</td>\n",
       "      <td>0</td>\n",
       "      <td>0</td>\n",
       "      <td>...</td>\n",
       "      <td>0</td>\n",
       "      <td>0</td>\n",
       "      <td>0</td>\n",
       "      <td>0</td>\n",
       "      <td>0</td>\n",
       "      <td>0</td>\n",
       "      <td>0</td>\n",
       "      <td>0</td>\n",
       "      <td>0</td>\n",
       "      <td>0</td>\n",
       "    </tr>\n",
       "    <tr>\n",
       "      <th>2</th>\n",
       "      <td>0</td>\n",
       "      <td>0</td>\n",
       "      <td>0</td>\n",
       "      <td>0</td>\n",
       "      <td>0</td>\n",
       "      <td>0</td>\n",
       "      <td>0</td>\n",
       "      <td>0</td>\n",
       "      <td>0</td>\n",
       "      <td>0</td>\n",
       "      <td>...</td>\n",
       "      <td>0</td>\n",
       "      <td>0</td>\n",
       "      <td>0</td>\n",
       "      <td>0</td>\n",
       "      <td>0</td>\n",
       "      <td>0</td>\n",
       "      <td>0</td>\n",
       "      <td>0</td>\n",
       "      <td>0</td>\n",
       "      <td>0</td>\n",
       "    </tr>\n",
       "    <tr>\n",
       "      <th>3</th>\n",
       "      <td>0</td>\n",
       "      <td>0</td>\n",
       "      <td>0</td>\n",
       "      <td>0</td>\n",
       "      <td>0</td>\n",
       "      <td>0</td>\n",
       "      <td>0</td>\n",
       "      <td>0</td>\n",
       "      <td>0</td>\n",
       "      <td>0</td>\n",
       "      <td>...</td>\n",
       "      <td>0</td>\n",
       "      <td>0</td>\n",
       "      <td>0</td>\n",
       "      <td>0</td>\n",
       "      <td>0</td>\n",
       "      <td>0</td>\n",
       "      <td>0</td>\n",
       "      <td>0</td>\n",
       "      <td>0</td>\n",
       "      <td>0</td>\n",
       "    </tr>\n",
       "    <tr>\n",
       "      <th>4</th>\n",
       "      <td>0</td>\n",
       "      <td>0</td>\n",
       "      <td>0</td>\n",
       "      <td>0</td>\n",
       "      <td>0</td>\n",
       "      <td>0</td>\n",
       "      <td>0</td>\n",
       "      <td>0</td>\n",
       "      <td>0</td>\n",
       "      <td>0</td>\n",
       "      <td>...</td>\n",
       "      <td>0</td>\n",
       "      <td>0</td>\n",
       "      <td>0</td>\n",
       "      <td>0</td>\n",
       "      <td>0</td>\n",
       "      <td>0</td>\n",
       "      <td>0</td>\n",
       "      <td>0</td>\n",
       "      <td>0</td>\n",
       "      <td>0</td>\n",
       "    </tr>\n",
       "    <tr>\n",
       "      <th>...</th>\n",
       "      <td>...</td>\n",
       "      <td>...</td>\n",
       "      <td>...</td>\n",
       "      <td>...</td>\n",
       "      <td>...</td>\n",
       "      <td>...</td>\n",
       "      <td>...</td>\n",
       "      <td>...</td>\n",
       "      <td>...</td>\n",
       "      <td>...</td>\n",
       "      <td>...</td>\n",
       "      <td>...</td>\n",
       "      <td>...</td>\n",
       "      <td>...</td>\n",
       "      <td>...</td>\n",
       "      <td>...</td>\n",
       "      <td>...</td>\n",
       "      <td>...</td>\n",
       "      <td>...</td>\n",
       "      <td>...</td>\n",
       "      <td>...</td>\n",
       "    </tr>\n",
       "    <tr>\n",
       "      <th>3730</th>\n",
       "      <td>0</td>\n",
       "      <td>0</td>\n",
       "      <td>0</td>\n",
       "      <td>0</td>\n",
       "      <td>0</td>\n",
       "      <td>0</td>\n",
       "      <td>0</td>\n",
       "      <td>0</td>\n",
       "      <td>0</td>\n",
       "      <td>0</td>\n",
       "      <td>...</td>\n",
       "      <td>0</td>\n",
       "      <td>0</td>\n",
       "      <td>0</td>\n",
       "      <td>0</td>\n",
       "      <td>0</td>\n",
       "      <td>0</td>\n",
       "      <td>0</td>\n",
       "      <td>0</td>\n",
       "      <td>0</td>\n",
       "      <td>0</td>\n",
       "    </tr>\n",
       "    <tr>\n",
       "      <th>3731</th>\n",
       "      <td>0</td>\n",
       "      <td>0</td>\n",
       "      <td>0</td>\n",
       "      <td>0</td>\n",
       "      <td>0</td>\n",
       "      <td>0</td>\n",
       "      <td>0</td>\n",
       "      <td>0</td>\n",
       "      <td>0</td>\n",
       "      <td>0</td>\n",
       "      <td>...</td>\n",
       "      <td>0</td>\n",
       "      <td>0</td>\n",
       "      <td>0</td>\n",
       "      <td>0</td>\n",
       "      <td>0</td>\n",
       "      <td>0</td>\n",
       "      <td>0</td>\n",
       "      <td>0</td>\n",
       "      <td>0</td>\n",
       "      <td>0</td>\n",
       "    </tr>\n",
       "    <tr>\n",
       "      <th>3732</th>\n",
       "      <td>0</td>\n",
       "      <td>0</td>\n",
       "      <td>0</td>\n",
       "      <td>0</td>\n",
       "      <td>0</td>\n",
       "      <td>0</td>\n",
       "      <td>0</td>\n",
       "      <td>0</td>\n",
       "      <td>0</td>\n",
       "      <td>0</td>\n",
       "      <td>...</td>\n",
       "      <td>0</td>\n",
       "      <td>0</td>\n",
       "      <td>0</td>\n",
       "      <td>0</td>\n",
       "      <td>0</td>\n",
       "      <td>0</td>\n",
       "      <td>0</td>\n",
       "      <td>0</td>\n",
       "      <td>0</td>\n",
       "      <td>0</td>\n",
       "    </tr>\n",
       "    <tr>\n",
       "      <th>3733</th>\n",
       "      <td>0</td>\n",
       "      <td>0</td>\n",
       "      <td>0</td>\n",
       "      <td>0</td>\n",
       "      <td>0</td>\n",
       "      <td>0</td>\n",
       "      <td>0</td>\n",
       "      <td>0</td>\n",
       "      <td>0</td>\n",
       "      <td>0</td>\n",
       "      <td>...</td>\n",
       "      <td>0</td>\n",
       "      <td>0</td>\n",
       "      <td>0</td>\n",
       "      <td>0</td>\n",
       "      <td>0</td>\n",
       "      <td>0</td>\n",
       "      <td>0</td>\n",
       "      <td>0</td>\n",
       "      <td>0</td>\n",
       "      <td>0</td>\n",
       "    </tr>\n",
       "    <tr>\n",
       "      <th>3734</th>\n",
       "      <td>0</td>\n",
       "      <td>0</td>\n",
       "      <td>0</td>\n",
       "      <td>0</td>\n",
       "      <td>0</td>\n",
       "      <td>0</td>\n",
       "      <td>0</td>\n",
       "      <td>0</td>\n",
       "      <td>0</td>\n",
       "      <td>0</td>\n",
       "      <td>...</td>\n",
       "      <td>0</td>\n",
       "      <td>0</td>\n",
       "      <td>0</td>\n",
       "      <td>0</td>\n",
       "      <td>0</td>\n",
       "      <td>0</td>\n",
       "      <td>0</td>\n",
       "      <td>0</td>\n",
       "      <td>0</td>\n",
       "      <td>0</td>\n",
       "    </tr>\n",
       "  </tbody>\n",
       "</table>\n",
       "<p>3735 rows × 12168 columns</p>\n",
       "</div>"
      ],
      "text/plain": [
       "      аар  аб  аббревиатур  абзац  абитуриент  абонемент  абортниц  \\\n",
       "0       0   0            0      0           0          0         0   \n",
       "1       0   0            0      0           0          0         0   \n",
       "2       0   0            0      0           0          0         0   \n",
       "3       0   0            0      0           0          0         0   \n",
       "4       0   0            0      0           0          0         0   \n",
       "...   ...  ..          ...    ...         ...        ...       ...   \n",
       "3730    0   0            0      0           0          0         0   \n",
       "3731    0   0            0      0           0          0         0   \n",
       "3732    0   0            0      0           0          0         0   \n",
       "3733    0   0            0      0           0          0         0   \n",
       "3734    0   0            0      0           0          0         0   \n",
       "\n",
       "      абракадабр  абрам  абрамович  ...  ясенев  ясик  ясн  ясновидя  ясност  \\\n",
       "0              0      0          0  ...       0     0    0         0       0   \n",
       "1              0      0          0  ...       0     0    0         0       0   \n",
       "2              0      0          0  ...       0     0    0         0       0   \n",
       "3              0      0          0  ...       0     0    0         0       0   \n",
       "4              0      0          0  ...       0     0    0         0       0   \n",
       "...          ...    ...        ...  ...     ...   ...  ...       ...     ...   \n",
       "3730           0      0          0  ...       0     0    0         0       0   \n",
       "3731           0      0          0  ...       0     0    0         0       0   \n",
       "3732           0      0          0  ...       0     0    0         0       0   \n",
       "3733           0      0          0  ...       0     0    0         0       0   \n",
       "3734           0      0          0  ...       0     0    0         0       0   \n",
       "\n",
       "      ясст  ястржембск  яуз  яхт  ящик  \n",
       "0        0           0    0    0     0  \n",
       "1        0           0    0    0     0  \n",
       "2        0           0    0    0     0  \n",
       "3        0           0    0    0     0  \n",
       "4        0           0    0    0     0  \n",
       "...    ...         ...  ...  ...   ...  \n",
       "3730     0           0    0    0     0  \n",
       "3731     0           0    0    0     0  \n",
       "3732     0           0    0    0     0  \n",
       "3733     0           0    0    0     0  \n",
       "3734     0           0    0    0     0  \n",
       "\n",
       "[3735 rows x 12168 columns]"
      ]
     },
     "execution_count": 72,
     "metadata": {},
     "output_type": "execute_result"
    }
   ],
   "source": [
    "train_x"
   ]
  },
  {
   "cell_type": "markdown",
   "metadata": {},
   "source": [
    "##### Обучение модели и сохранение в файл"
   ]
  },
  {
   "cell_type": "code",
   "execution_count": 18,
   "metadata": {},
   "outputs": [
    {
     "name": "stdout",
     "output_type": "stream",
     "text": [
      "CPU times: user 267 ms, sys: 127 ms, total: 394 ms\n",
      "Wall time: 322 ms\n"
     ]
    }
   ],
   "source": [
    "%%time\n",
    "logit = LogisticRegression(random_state=17, solver='liblinear')\n",
    "logit.fit(train_x, train_y)\n",
    "\n",
    "with open(PATH_MODEL, 'wb') as f:\n",
    "    pickle.dump(logit, f)"
   ]
  },
  {
   "cell_type": "markdown",
   "metadata": {},
   "source": [
    "##### Чтение готовой модели с файла"
   ]
  },
  {
   "cell_type": "code",
   "execution_count": 73,
   "metadata": {},
   "outputs": [],
   "source": [
    "with open(PATH_MODEL, 'rb') as f:\n",
    "    logit = pickle.load(f)"
   ]
  },
  {
   "cell_type": "markdown",
   "metadata": {},
   "source": [
    "##### Лучшее значение C и соответствующее качество на кросс-валидации"
   ]
  },
  {
   "cell_type": "code",
   "execution_count": 9,
   "metadata": {},
   "outputs": [
    {
     "name": "stdout",
     "output_type": "stream",
     "text": [
      "CPU times: user 556 ms, sys: 591 ms, total: 1.15 s\n",
      "Wall time: 15.3 s\n"
     ]
    },
    {
     "data": {
      "text/plain": [
       "GridSearchCV(cv=5, error_score=nan,\n",
       "             estimator=LogisticRegression(C=1.0, class_weight=None, dual=False,\n",
       "                                          fit_intercept=True,\n",
       "                                          intercept_scaling=1, l1_ratio=None,\n",
       "                                          max_iter=100, multi_class='auto',\n",
       "                                          n_jobs=None, penalty='l2',\n",
       "                                          random_state=17, solver='liblinear',\n",
       "                                          tol=0.0001, verbose=0,\n",
       "                                          warm_start=False),\n",
       "             iid='deprecated', n_jobs=-1,\n",
       "             param_grid={'C': array([1.e-05, 1.e-04, 1.e-03, 1.e-02, 1.e-01, 1.e+00])},\n",
       "             pre_dispatch='2*n_jobs', refit=True, return_train_score=False,\n",
       "             scoring=None, verbose=0)"
      ]
     },
     "execution_count": 9,
     "metadata": {},
     "output_type": "execute_result"
    }
   ],
   "source": [
    "%%time\n",
    "param_name = 'C'\n",
    "param_grid_logit = {param_name: np.logspace(-5, 0, 6)}\n",
    "grid_logit = GridSearchCV(logit, param_grid_logit, cv=5, n_jobs=-1)\n",
    "grid_logit.fit(train_x, train_y)"
   ]
  },
  {
   "cell_type": "code",
   "execution_count": 74,
   "metadata": {},
   "outputs": [
    {
     "data": {
      "text/plain": [
       "({'C': 1.0}, 0.9531459170013387)"
      ]
     },
     "execution_count": 74,
     "metadata": {},
     "output_type": "execute_result"
    }
   ],
   "source": [
    "grid_logit.best_params_, grid_logit.best_score_"
   ]
  },
  {
   "cell_type": "markdown",
   "metadata": {},
   "source": [
    "### Анализ модели"
   ]
  },
  {
   "cell_type": "markdown",
   "metadata": {},
   "source": [
    "##### Доли правильных ответов на обучающей и тестовой выборках"
   ]
  },
  {
   "cell_type": "code",
   "execution_count": 75,
   "metadata": {},
   "outputs": [
    {
     "data": {
      "text/plain": [
       "(0.997, 0.969)"
      ]
     },
     "execution_count": 75,
     "metadata": {},
     "output_type": "execute_result"
    }
   ],
   "source": [
    "round(logit.score(train_x, train_y), 3), round(logit.score(test_x, test_y), 3),"
   ]
  },
  {
   "cell_type": "code",
   "execution_count": 76,
   "metadata": {},
   "outputs": [
    {
     "name": "stdout",
     "output_type": "stream",
     "text": [
      "Качество модели относительно тестовой выборки: 0.9679613489958317\n"
     ]
    }
   ],
   "source": [
    "valid_pred = logit.predict_proba(test_x)[:,1]\n",
    "roc_auc = roc_auc_score(test_y, valid_pred)\n",
    "print('Качество модели относительно тестовой выборки: ' + str(roc_auc))"
   ]
  },
  {
   "cell_type": "markdown",
   "metadata": {},
   "source": [
    "##### Коэффициенты модели"
   ]
  },
  {
   "cell_type": "code",
   "execution_count": 78,
   "metadata": {},
   "outputs": [
    {
     "data": {
      "image/png": "[encoded data removed]",
      "text/plain": [
       "<Figure size 1440x360 with 1 Axes>"
      ]
     },
     "metadata": {
      "needs_background": "light"
     },
     "output_type": "display_data"
    }
   ],
   "source": [
    "n_top_features = 20\n",
    "# get coefficients with large absolute values \n",
    "coef = logit.coef_.ravel()\n",
    "positive_coefficients = np.argsort(coef)[-n_top_features:]\n",
    "negative_coefficients = np.argsort(coef)[:n_top_features]\n",
    "interesting_coefficients = np.hstack([negative_coefficients, positive_coefficients])\n",
    "\n",
    "# plot them\n",
    "plt.figure(figsize=(20, 5))\n",
    "colors = [\"red\" if c < 0 else \"blue\" for c in coef[interesting_coefficients]]\n",
    "plt.bar(np.arange(2 * n_top_features), coef[interesting_coefficients], color=colors)\n",
    "feature_names = np.array(feature_names)\n",
    "plt.xticks(np.arange(1, 1 + 2 * n_top_features), feature_names[interesting_coefficients], rotation=60, ha=\"right\");"
   ]
  },
  {
   "cell_type": "code",
   "execution_count": 14,
   "metadata": {},
   "outputs": [],
   "source": [
    "# порождаем данные\n",
    "rng = np.random.RandomState(0)\n",
    "X = rng.randn(200, 2)\n",
    "y = np.logical_xor(X[:, 0] > 0, X[:, 1] > 0)"
   ]
  },
  {
   "cell_type": "code",
   "execution_count": 15,
   "metadata": {},
   "outputs": [
    {
     "data": {
      "image/png": "[encoded data removed]",
      "text/plain": [
       "<Figure size 432x288 with 1 Axes>"
      ]
     },
     "metadata": {
      "needs_background": "light"
     },
     "output_type": "display_data"
    }
   ],
   "source": [
    "plt.scatter(X[:, 0], X[:, 1], s=30, c=y, cmap=plt.cm.Paired);"
   ]
  },
  {
   "cell_type": "code",
   "execution_count": 16,
   "metadata": {},
   "outputs": [
    {
     "name": "stdout",
     "output_type": "stream",
     "text": [
      "Слова и коэффициенты с большими абсолютными значениями:\n",
      "1 - шо (11852)\n",
      "2 - реалит (8817)\n",
      "3 - очн (6679)\n",
      "4 - славянск (9573)\n",
      "5 - близнец (694)\n",
      "6 - ноябр (5971)\n",
      "7 - запиш (3059)\n",
      "8 - феврал (11191)\n",
      "9 - январ (12140)\n",
      "10 - укаж (10915)\n",
      "11 - смотр (9661)\n",
      "12 - ближайш (687)\n",
      "13 - декабр (2243)\n",
      "14 - сбор (9239)\n",
      "15 - тв (10409)\n",
      "16 - останкин (6461)\n",
      "17 - спасиб (9900)\n",
      "18 - битв (660)\n",
      "19 - яхт (12166)\n",
      "20 - жен (2769)\n",
      "21 - зрител (3282)\n",
      "22 - игр (3308)\n",
      "23 - дне (2434)\n",
      "24 - хл (11455)\n",
      "25 - постро (7703)\n",
      "26 - ап (287)\n",
      "27 - готовн (2028)\n",
      "28 - вотс (1499)\n",
      "29 - благотворительн (672)\n",
      "30 - окончан (6273)\n",
      "31 - проживан (8269)\n",
      "32 - пром (8321)\n",
      "33 - зв (3172)\n",
      "34 - семейн (9363)\n",
      "35 - ид (3318)\n",
      "36 - талантлив (10362)\n",
      "37 - документ (2501)\n",
      "38 - хэклер (11545)\n",
      "39 - федеральн (11194)\n",
      "40 - помож (7541)\n"
     ]
    }
   ],
   "source": [
    "n_top_features = 40\n",
    "coef = logit.coef_.ravel() #Функция ravel() возвращает сжатый до одной оси массив.\n",
    "coefficients = np.argsort(coef)\n",
    "coefficients = coefficients[-n_top_features:]\n",
    "coefficients = coefficients[::-1]\n",
    "feature_names[interesting_coefficients]\n",
    "\n",
    "index = 0\n",
    "print(\"Слова и коэффициенты с большими абсолютными значениями:\")\n",
    "for c in coefficients:\n",
    "    index = index + 1\n",
    "    name = feature_names[c]\n",
    "    print(str(index) + \" - \" + name + \" (\" + str(c) + \")\")\n",
    "\n"
   ]
  },
  {
   "cell_type": "markdown",
   "metadata": {},
   "source": [
    "### Првоерка модели на данных "
   ]
  },
  {
   "cell_type": "code",
   "execution_count": 20,
   "metadata": {},
   "outputs": [
    {
     "name": "stdout",
     "output_type": "stream",
     "text": [
      "Вероятность - текст\n",
      "0.01743941327122247 : asfsadasdfsd sd gsdg sdg sdgsdg sdg\n",
      "0.030472457100055597 : тв шоу для актеров\n",
      "0.0276589513495145 : москва / съемка для тв / съемка: 05.06 кулинарное шоу требуются: внимание настоящие, не актеры, которые просто сыграют, а именно настоящие ( но не стесняющиеся камеры, общительные, яркие ) - веганы - девушки соблюдающие правильное питание - аллергики ( с какой то распространенной аллергией, например орехи) задачи: дегустация блюд / комментарии по вкусовым впечатлениям\n"
     ]
    }
   ],
   "source": [
    "texts = [\n",
    "    \"asfsadasdfsd sd gsdg sdg sdgsdg sdg\", \n",
    "    \"тв шоу для актеров\",\n",
    "    \"москва / съемка для тв / съемка: 05.06 кулинарное шоу требуются: внимание настоящие, не актеры, которые просто сыграют, а именно настоящие ( но не стесняющиеся камеры, общительные, яркие ) - веганы - девушки соблюдающие правильное питание - аллергики ( с какой то распространенной аллергией, например орехи) задачи: дегустация блюд / комментарии по вкусовым впечатлениям\",\n",
    "]\n",
    "result_x = train_x = pd.DataFrame(data=vectorizer.transform(texts).toarray(), columns=feature_names)\n",
    "result = logit.predict_proba(result_x)\n",
    "print(\"Вероятность - текст\")\n",
    "for i in range(0, len(texts)):\n",
    "    print(str(result[i][1]) + \" : \" + texts[i])"
   ]
  },
  {
   "cell_type": "code",
   "execution_count": null,
   "metadata": {},
   "outputs": [],
   "source": []
  },
  {
   "cell_type": "code",
   "execution_count": null,
   "metadata": {},
   "outputs": [],
   "source": []
  },
  {
   "cell_type": "code",
   "execution_count": null,
   "metadata": {},
   "outputs": [],
   "source": []
  }
 ],
 "metadata": {
  "kernelspec": {
   "display_name": "Python 3",
   "language": "python",
   "name": "python3"
  },
  "language_info": {
   "codemirror_mode": {
    "name": "ipython",
    "version": 3
   },
   "file_extension": ".py",
   "mimetype": "text/x-python",
   "name": "python",
   "nbconvert_exporter": "python",
   "pygments_lexer": "ipython3",
   "version": "3.7.6"
  }
 },
 "nbformat": 4,
 "nbformat_minor": 4
}
