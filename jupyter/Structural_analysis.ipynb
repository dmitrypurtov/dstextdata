{
 "cells": [
  {
   "cell_type": "code",
   "execution_count": 3,
   "metadata": {},
   "outputs": [
    {
     "name": "stdout",
     "output_type": "stream",
     "text": [
      "Requirement already satisfied: yargy in /opt/conda/lib/python3.7/site-packages (0.14.0)\n",
      "Requirement already satisfied: pymorphy2 in /opt/conda/lib/python3.7/site-packages (from yargy) (0.8)\n",
      "Requirement already satisfied: dawg-python>=0.7 in /opt/conda/lib/python3.7/site-packages (from pymorphy2->yargy) (0.7.2)\n",
      "Requirement already satisfied: pymorphy2-dicts<3.0,>=2.4 in /opt/conda/lib/python3.7/site-packages (from pymorphy2->yargy) (2.4.393442.3710985)\n",
      "Requirement already satisfied: docopt>=0.6 in /opt/conda/lib/python3.7/site-packages (from pymorphy2->yargy) (0.6.2)\n",
      "Note: you may need to restart the kernel to use updated packages.\n"
     ]
    }
   ],
   "source": [
    "pip install yargy "
   ]
  },
  {
   "cell_type": "code",
   "execution_count": 8,
   "metadata": {},
   "outputs": [],
   "source": [
    "from yargy import rule, and_, or_\n",
    "from yargy.interpretation import fact, attribute\n",
    "from yargy.predicates import dictionary, normalized\n",
    "from yargy import Parser"
   ]
  },
  {
   "cell_type": "code",
   "execution_count": 9,
   "metadata": {},
   "outputs": [],
   "source": [
    "ContentTypeFact = fact('ContentTypeFact', ['contenttype'])\n",
    "\n",
    "CONTENTS = {\n",
    "    'кастинг': 'fact',\n",
    "    'фотосъемка': 'fact',\n",
    "}\n",
    "\n",
    "NAME = dictionary(CONTENTS).interpretation(ContentTypeFact.contenttype.normalized().custom(CONTENTS.__getitem__))\n",
    "CONTENT_TYPE_PARSER = or_(rule(NAME)).interpretation(ContentTypeFact)"
   ]
  },
  {
   "cell_type": "code",
   "execution_count": 10,
   "metadata": {},
   "outputs": [],
   "source": [
    "test = \"Кастинг фото 1 видеосъемка\"\n",
    "\n",
    "result_list = []\n",
    "parser = Parser(CONTENT_TYPE_PARSER)\n",
    "matches = list(parser.findall(test))\n",
    "for match in matches:\n",
    "    if match is not None:\n",
    "        try:\n",
    "            result_list.append(match.fact.contenttype)\n",
    "        except KeyError:\n",
    "            pass\n",
    "result_list = list(dict.fromkeys(result_list))"
   ]
  },
  {
   "cell_type": "code",
   "execution_count": 11,
   "metadata": {},
   "outputs": [
    {
     "data": {
      "text/plain": [
       "['fact']"
      ]
     },
     "execution_count": 11,
     "metadata": {},
     "output_type": "execute_result"
    }
   ],
   "source": [
    "result_list"
   ]
  },
  {
   "cell_type": "code",
   "execution_count": null,
   "metadata": {},
   "outputs": [],
   "source": []
  },
  {
   "cell_type": "code",
   "execution_count": null,
   "metadata": {},
   "outputs": [],
   "source": []
  }
 ],
 "metadata": {
  "kernelspec": {
   "display_name": "Python 3",
   "language": "python",
   "name": "python3"
  },
  "language_info": {
   "codemirror_mode": {
    "name": "ipython",
    "version": 3
   },
   "file_extension": ".py",
   "mimetype": "text/x-python",
   "name": "python",
   "nbconvert_exporter": "python",
   "pygments_lexer": "ipython3",
   "version": "3.7.6"
  }
 },
 "nbformat": 4,
 "nbformat_minor": 4
}
