{
 "cells": [
  {
   "cell_type": "code",
   "execution_count": 4,
   "metadata": {},
   "outputs": [],
   "source": [
    "import json\n",
    "import pickle\n",
    "import pandas as pd\n",
    "import numpy as np\n",
    "import matplotlib.pyplot as plt\n",
    "from scipy.sparse import csr_matrix\n",
    "\n",
    "from sklearn.model_selection import GridSearchCV\n",
    "from sklearn.feature_extraction.text import CountVectorizer\n",
    "from sklearn.feature_extraction.text import TfidfVectorizer\n",
    "from sklearn.decomposition import PCA\n",
    "from sklearn.linear_model import LogisticRegression\n",
    "from sklearn.svm import LinearSVC\n",
    "from sklearn.metrics import roc_auc_score\n",
    "from sklearn.model_selection import learning_curve\n",
    "from sklearn.pipeline import Pipeline\n",
    "from sklearn.preprocessing import PolynomialFeatures\n",
    "from sklearn.model_selection import validation_curve\n",
    "from sklearn.preprocessing import StandardScaler\n",
    "from sklearn.utils import shuffle"
   ]
  },
  {
   "cell_type": "markdown",
   "metadata": {},
   "source": [
    "### Подготовка данных"
   ]
  },
  {
   "cell_type": "code",
   "execution_count": 5,
   "metadata": {},
   "outputs": [],
   "source": [
    "#PATH_DATA = './data/data_part.json'\n",
    "PATH_DATA = './data/data.json'\n",
    "TRAIN_PERCENT = 10\n",
    "Y_COLUMN = 'TVShow'\n",
    "X_COLUMN = 'Text'"
   ]
  },
  {
   "cell_type": "code",
   "execution_count": 6,
   "metadata": {},
   "outputs": [
    {
     "data": {
      "text/plain": [
       "((5336, 2), (549, 2), (4787, 2))"
      ]
     },
     "execution_count": 6,
     "metadata": {},
     "output_type": "execute_result"
    }
   ],
   "source": [
    "dataRead = []\n",
    "with open(PATH_DATA, 'r', encoding='utf-8') as jsonfile:    \n",
    "    dataRead = json.load(jsonfile)\n",
    "    \n",
    "data_all = pd.DataFrame(data=dataRead, columns = [Y_COLUMN, X_COLUMN])\n",
    "data_positive = pd.DataFrame(data=data_all.loc[data_all[Y_COLUMN] == 1])\n",
    "data_negative = pd.DataFrame(data=data_all.loc[data_all[Y_COLUMN] == 0])\n",
    "\n",
    "data_all.shape, data_positive.shape, data_negative.shape"
   ]
  },
  {
   "cell_type": "code",
   "execution_count": 7,
   "metadata": {},
   "outputs": [
    {
     "data": {
      "text/html": [
       "<div>\n",
       "<style scoped>\n",
       "    .dataframe tbody tr th:only-of-type {\n",
       "        vertical-align: middle;\n",
       "    }\n",
       "\n",
       "    .dataframe tbody tr th {\n",
       "        vertical-align: top;\n",
       "    }\n",
       "\n",
       "    .dataframe thead th {\n",
       "        text-align: right;\n",
       "    }\n",
       "</style>\n",
       "<table border=\"1\" class=\"dataframe\">\n",
       "  <thead>\n",
       "    <tr style=\"text-align: right;\">\n",
       "      <th></th>\n",
       "      <th>TVShow</th>\n",
       "      <th>Text</th>\n",
       "    </tr>\n",
       "  </thead>\n",
       "  <tbody>\n",
       "    <tr>\n",
       "      <th>0</th>\n",
       "      <td>0</td>\n",
       "      <td>мужчин актер съемок клип съемк клип ищ геро му...</td>\n",
       "    </tr>\n",
       "    <tr>\n",
       "      <th>1</th>\n",
       "      <td>0</td>\n",
       "      <td>вниман москв т взлет ориентировочн девушк лет ...</td>\n",
       "    </tr>\n",
       "    <tr>\n",
       "      <th>2</th>\n",
       "      <td>0</td>\n",
       "      <td>х ф данил козловск пада аист мужчин лет рост р...</td>\n",
       "    </tr>\n",
       "    <tr>\n",
       "      <th>3</th>\n",
       "      <td>0</td>\n",
       "      <td>нов шанс попаст кастинг супер телевикторин уга...</td>\n",
       "    </tr>\n",
       "    <tr>\n",
       "      <th>4</th>\n",
       "      <td>0</td>\n",
       "      <td>кастинг июл девушек размер одежд парн работ ию...</td>\n",
       "    </tr>\n",
       "  </tbody>\n",
       "</table>\n",
       "</div>"
      ],
      "text/plain": [
       "   TVShow                                               Text\n",
       "0       0  мужчин актер съемок клип съемк клип ищ геро му...\n",
       "1       0  вниман москв т взлет ориентировочн девушк лет ...\n",
       "2       0  х ф данил козловск пада аист мужчин лет рост р...\n",
       "3       0  нов шанс попаст кастинг супер телевикторин уга...\n",
       "4       0  кастинг июл девушек размер одежд парн работ ию..."
      ]
     },
     "execution_count": 7,
     "metadata": {},
     "output_type": "execute_result"
    }
   ],
   "source": [
    "data_all.head()"
   ]
  },
  {
   "cell_type": "code",
   "execution_count": 8,
   "metadata": {},
   "outputs": [
    {
     "data": {
      "text/plain": [
       "(   TVShow                                               Text\n",
       " 0       0  мужчин актер съемок клип съемк клип ищ геро му...\n",
       " 1       0  вниман москв т взлет ориентировочн девушк лет ...\n",
       " 2       0  х ф данил козловск пада аист мужчин лет рост р...\n",
       " 3       0  нов шанс попаст кастинг супер телевикторин уга...\n",
       " 4       0  кастинг июл девушек размер одежд парн работ ию...,\n",
       "      TVShow                                               Text\n",
       " 41        1  август москв вегас фина призов фонд рубл разыг...\n",
       " 44        1  молод активн амбициозн свободн комплекс свобод...\n",
       " 51        1  яхт любв топов холостяк легендарн проект дом к...\n",
       " 53        1  информац парн лет ищ геро нов ярк приключенчес...\n",
       " 635       1  крокус сит состо сь мка концерт финальн отборо...,\n",
       "    TVShow                                               Text\n",
       " 0       0  мужчин актер съемок клип съемк клип ищ геро му...\n",
       " 1       0  вниман москв т взлет ориентировочн девушк лет ...\n",
       " 2       0  х ф данил козловск пада аист мужчин лет рост р...\n",
       " 3       0  нов шанс попаст кастинг супер телевикторин уга...\n",
       " 4       0  кастинг июл девушек размер одежд парн работ ию...)"
      ]
     },
     "execution_count": 8,
     "metadata": {},
     "output_type": "execute_result"
    }
   ],
   "source": [
    "data_all.head(), data_positive.head(), data_negative.head(), "
   ]
  },
  {
   "cell_type": "code",
   "execution_count": 9,
   "metadata": {},
   "outputs": [
    {
     "data": {
      "text/html": [
       "<div>\n",
       "<style scoped>\n",
       "    .dataframe tbody tr th:only-of-type {\n",
       "        vertical-align: middle;\n",
       "    }\n",
       "\n",
       "    .dataframe tbody tr th {\n",
       "        vertical-align: top;\n",
       "    }\n",
       "\n",
       "    .dataframe thead th {\n",
       "        text-align: right;\n",
       "    }\n",
       "</style>\n",
       "<table border=\"1\" class=\"dataframe\">\n",
       "  <thead>\n",
       "    <tr style=\"text-align: right;\">\n",
       "      <th></th>\n",
       "      <th>TVShow</th>\n",
       "      <th>Text</th>\n",
       "    </tr>\n",
       "  </thead>\n",
       "  <tbody>\n",
       "    <tr>\n",
       "      <th>2126</th>\n",
       "      <td>1</td>\n",
       "      <td>срочн москв мо нов шо люд город тип игр маф ну...</td>\n",
       "    </tr>\n",
       "    <tr>\n",
       "      <th>4860</th>\n",
       "      <td>1</td>\n",
       "      <td>вниман кастинг москв шо суд дел несовершенноле...</td>\n",
       "    </tr>\n",
       "    <tr>\n",
       "      <th>4851</th>\n",
       "      <td>1</td>\n",
       "      <td>хочеш приня участ телепроект дом попаст остр л...</td>\n",
       "    </tr>\n",
       "    <tr>\n",
       "      <th>2012</th>\n",
       "      <td>1</td>\n",
       "      <td>москв срочн декабр обязательн об дня музыкальн...</td>\n",
       "    </tr>\n",
       "    <tr>\n",
       "      <th>2579</th>\n",
       "      <td>1</td>\n",
       "      <td>шо регин запуска сезон снов поиск деток рубрик...</td>\n",
       "    </tr>\n",
       "  </tbody>\n",
       "</table>\n",
       "</div>"
      ],
      "text/plain": [
       "      TVShow                                               Text\n",
       "2126       1  срочн москв мо нов шо люд город тип игр маф ну...\n",
       "4860       1  вниман кастинг москв шо суд дел несовершенноле...\n",
       "4851       1  хочеш приня участ телепроект дом попаст остр л...\n",
       "2012       1  москв срочн декабр обязательн об дня музыкальн...\n",
       "2579       1  шо регин запуска сезон снов поиск деток рубрик..."
      ]
     },
     "execution_count": 9,
     "metadata": {},
     "output_type": "execute_result"
    }
   ],
   "source": [
    "data = pd.DataFrame()\n",
    "data = data.append(data_positive.sample(n=200))\n",
    "data = data.append(data_negative.sample(n=30))\n",
    "\n",
    "data = shuffle(data)\n",
    "data.head()"
   ]
  },
  {
   "cell_type": "code",
   "execution_count": 10,
   "metadata": {},
   "outputs": [
    {
     "data": {
      "text/plain": [
       "((230,), (230,))"
      ]
     },
     "execution_count": 10,
     "metadata": {},
     "output_type": "execute_result"
    }
   ],
   "source": [
    "data_x = data[X_COLUMN]\n",
    "data_y = data[Y_COLUMN]\n",
    "data_x.shape, data_y.shape"
   ]
  },
  {
   "cell_type": "markdown",
   "metadata": {},
   "source": [
    "##### Разделение данных на train_x,train_y и test_x,test_y"
   ]
  },
  {
   "cell_type": "code",
   "execution_count": 11,
   "metadata": {},
   "outputs": [],
   "source": [
    "TRAIN_PERCENT = 70\n",
    "delimiter = int(len(data_y) * TRAIN_PERCENT / 100)\n",
    "\n",
    "train_x = data_x[:delimiter]\n",
    "test_x = data_x[delimiter:]\n",
    "train_y = data_y[:delimiter]\n",
    "test_y = data_y[delimiter:]"
   ]
  },
  {
   "cell_type": "markdown",
   "metadata": {},
   "source": [
    "### Логистическая регрессия с преобразование текста CountVectorizer"
   ]
  },
  {
   "cell_type": "code",
   "execution_count": 12,
   "metadata": {},
   "outputs": [],
   "source": [
    "model_vectorizer = CountVectorizer()\n",
    "vectorizer = model_vectorizer.fit(train_x)\n",
    "feature_names = model_vectorizer.get_feature_names()"
   ]
  },
  {
   "cell_type": "code",
   "execution_count": 13,
   "metadata": {},
   "outputs": [
    {
     "data": {
      "text/plain": [
       "2126    срочн москв мо нов шо люд город тип игр маф ну...\n",
       "4860    вниман кастинг москв шо суд дел несовершенноле...\n",
       "4851    хочеш приня участ телепроект дом попаст остр л...\n",
       "2012    москв срочн декабр обязательн об дня музыкальн...\n",
       "2579    шо регин запуска сезон снов поиск деток рубрик...\n",
       "                              ...                        \n",
       "4252    октябр запланирова бизнес мероприят формат пре...\n",
       "3946    москв питер вниман кастинг профессиональн танц...\n",
       "2123    москв треб зрител сь мку развлекательн шо дека...\n",
       "3482    ищ мужчин участ шо бал холостяк стиляг москв у...\n",
       "4690    элитн ночн клуб москв треб танцовщиц оп работ ...\n",
       "Name: Text, Length: 161, dtype: object"
      ]
     },
     "execution_count": 13,
     "metadata": {},
     "output_type": "execute_result"
    }
   ],
   "source": [
    "train_x"
   ]
  },
  {
   "cell_type": "markdown",
   "metadata": {},
   "source": [
    "##### Подготовка данных"
   ]
  },
  {
   "cell_type": "code",
   "execution_count": 14,
   "metadata": {},
   "outputs": [],
   "source": [
    "train_x = pd.DataFrame(data=vectorizer.transform(train_x).toarray(), columns=feature_names)\n",
    "train_y = train_y \n",
    "\n",
    "test_x = pd.DataFrame(data=vectorizer.transform(test_x).toarray(), columns=feature_names)\n",
    "test_y = test_y"
   ]
  },
  {
   "cell_type": "code",
   "execution_count": 15,
   "metadata": {},
   "outputs": [
    {
     "data": {
      "text/html": [
       "<div>\n",
       "<style scoped>\n",
       "    .dataframe tbody tr th:only-of-type {\n",
       "        vertical-align: middle;\n",
       "    }\n",
       "\n",
       "    .dataframe tbody tr th {\n",
       "        vertical-align: top;\n",
       "    }\n",
       "\n",
       "    .dataframe thead th {\n",
       "        text-align: right;\n",
       "    }\n",
       "</style>\n",
       "<table border=\"1\" class=\"dataframe\">\n",
       "  <thead>\n",
       "    <tr style=\"text-align: right;\">\n",
       "      <th></th>\n",
       "      <th>абонемент</th>\n",
       "      <th>абсолютн</th>\n",
       "      <th>автобус</th>\n",
       "      <th>автомобил</th>\n",
       "      <th>авторск</th>\n",
       "      <th>агапкин</th>\n",
       "      <th>агент</th>\n",
       "      <th>агентск</th>\n",
       "      <th>агентств</th>\n",
       "      <th>агличанин</th>\n",
       "      <th>...</th>\n",
       "      <th>юрист</th>\n",
       "      <th>ютуб</th>\n",
       "      <th>яв</th>\n",
       "      <th>явля</th>\n",
       "      <th>язык</th>\n",
       "      <th>яковлев</th>\n",
       "      <th>январ</th>\n",
       "      <th>яндексдиск</th>\n",
       "      <th>япон</th>\n",
       "      <th>ярк</th>\n",
       "    </tr>\n",
       "  </thead>\n",
       "  <tbody>\n",
       "    <tr>\n",
       "      <th>0</th>\n",
       "      <td>0</td>\n",
       "      <td>0</td>\n",
       "      <td>0</td>\n",
       "      <td>0</td>\n",
       "      <td>0</td>\n",
       "      <td>0</td>\n",
       "      <td>0</td>\n",
       "      <td>0</td>\n",
       "      <td>0</td>\n",
       "      <td>0</td>\n",
       "      <td>...</td>\n",
       "      <td>0</td>\n",
       "      <td>0</td>\n",
       "      <td>0</td>\n",
       "      <td>0</td>\n",
       "      <td>0</td>\n",
       "      <td>0</td>\n",
       "      <td>0</td>\n",
       "      <td>0</td>\n",
       "      <td>0</td>\n",
       "      <td>0</td>\n",
       "    </tr>\n",
       "    <tr>\n",
       "      <th>1</th>\n",
       "      <td>0</td>\n",
       "      <td>0</td>\n",
       "      <td>0</td>\n",
       "      <td>0</td>\n",
       "      <td>0</td>\n",
       "      <td>0</td>\n",
       "      <td>0</td>\n",
       "      <td>0</td>\n",
       "      <td>0</td>\n",
       "      <td>0</td>\n",
       "      <td>...</td>\n",
       "      <td>0</td>\n",
       "      <td>0</td>\n",
       "      <td>0</td>\n",
       "      <td>0</td>\n",
       "      <td>0</td>\n",
       "      <td>0</td>\n",
       "      <td>0</td>\n",
       "      <td>0</td>\n",
       "      <td>0</td>\n",
       "      <td>0</td>\n",
       "    </tr>\n",
       "    <tr>\n",
       "      <th>2</th>\n",
       "      <td>0</td>\n",
       "      <td>0</td>\n",
       "      <td>0</td>\n",
       "      <td>0</td>\n",
       "      <td>0</td>\n",
       "      <td>0</td>\n",
       "      <td>0</td>\n",
       "      <td>0</td>\n",
       "      <td>0</td>\n",
       "      <td>0</td>\n",
       "      <td>...</td>\n",
       "      <td>0</td>\n",
       "      <td>0</td>\n",
       "      <td>0</td>\n",
       "      <td>0</td>\n",
       "      <td>0</td>\n",
       "      <td>0</td>\n",
       "      <td>0</td>\n",
       "      <td>0</td>\n",
       "      <td>0</td>\n",
       "      <td>2</td>\n",
       "    </tr>\n",
       "    <tr>\n",
       "      <th>3</th>\n",
       "      <td>0</td>\n",
       "      <td>0</td>\n",
       "      <td>0</td>\n",
       "      <td>0</td>\n",
       "      <td>1</td>\n",
       "      <td>0</td>\n",
       "      <td>0</td>\n",
       "      <td>1</td>\n",
       "      <td>0</td>\n",
       "      <td>0</td>\n",
       "      <td>...</td>\n",
       "      <td>0</td>\n",
       "      <td>0</td>\n",
       "      <td>0</td>\n",
       "      <td>0</td>\n",
       "      <td>0</td>\n",
       "      <td>0</td>\n",
       "      <td>0</td>\n",
       "      <td>0</td>\n",
       "      <td>0</td>\n",
       "      <td>0</td>\n",
       "    </tr>\n",
       "    <tr>\n",
       "      <th>4</th>\n",
       "      <td>0</td>\n",
       "      <td>0</td>\n",
       "      <td>0</td>\n",
       "      <td>0</td>\n",
       "      <td>0</td>\n",
       "      <td>0</td>\n",
       "      <td>0</td>\n",
       "      <td>0</td>\n",
       "      <td>0</td>\n",
       "      <td>0</td>\n",
       "      <td>...</td>\n",
       "      <td>0</td>\n",
       "      <td>0</td>\n",
       "      <td>0</td>\n",
       "      <td>0</td>\n",
       "      <td>0</td>\n",
       "      <td>0</td>\n",
       "      <td>0</td>\n",
       "      <td>0</td>\n",
       "      <td>0</td>\n",
       "      <td>0</td>\n",
       "    </tr>\n",
       "    <tr>\n",
       "      <th>...</th>\n",
       "      <td>...</td>\n",
       "      <td>...</td>\n",
       "      <td>...</td>\n",
       "      <td>...</td>\n",
       "      <td>...</td>\n",
       "      <td>...</td>\n",
       "      <td>...</td>\n",
       "      <td>...</td>\n",
       "      <td>...</td>\n",
       "      <td>...</td>\n",
       "      <td>...</td>\n",
       "      <td>...</td>\n",
       "      <td>...</td>\n",
       "      <td>...</td>\n",
       "      <td>...</td>\n",
       "      <td>...</td>\n",
       "      <td>...</td>\n",
       "      <td>...</td>\n",
       "      <td>...</td>\n",
       "      <td>...</td>\n",
       "      <td>...</td>\n",
       "    </tr>\n",
       "    <tr>\n",
       "      <th>156</th>\n",
       "      <td>0</td>\n",
       "      <td>0</td>\n",
       "      <td>0</td>\n",
       "      <td>0</td>\n",
       "      <td>0</td>\n",
       "      <td>0</td>\n",
       "      <td>0</td>\n",
       "      <td>0</td>\n",
       "      <td>0</td>\n",
       "      <td>0</td>\n",
       "      <td>...</td>\n",
       "      <td>0</td>\n",
       "      <td>0</td>\n",
       "      <td>0</td>\n",
       "      <td>0</td>\n",
       "      <td>0</td>\n",
       "      <td>0</td>\n",
       "      <td>0</td>\n",
       "      <td>0</td>\n",
       "      <td>0</td>\n",
       "      <td>0</td>\n",
       "    </tr>\n",
       "    <tr>\n",
       "      <th>157</th>\n",
       "      <td>0</td>\n",
       "      <td>0</td>\n",
       "      <td>0</td>\n",
       "      <td>0</td>\n",
       "      <td>0</td>\n",
       "      <td>0</td>\n",
       "      <td>0</td>\n",
       "      <td>0</td>\n",
       "      <td>0</td>\n",
       "      <td>0</td>\n",
       "      <td>...</td>\n",
       "      <td>0</td>\n",
       "      <td>0</td>\n",
       "      <td>0</td>\n",
       "      <td>0</td>\n",
       "      <td>0</td>\n",
       "      <td>0</td>\n",
       "      <td>0</td>\n",
       "      <td>0</td>\n",
       "      <td>0</td>\n",
       "      <td>0</td>\n",
       "    </tr>\n",
       "    <tr>\n",
       "      <th>158</th>\n",
       "      <td>0</td>\n",
       "      <td>0</td>\n",
       "      <td>2</td>\n",
       "      <td>0</td>\n",
       "      <td>0</td>\n",
       "      <td>0</td>\n",
       "      <td>0</td>\n",
       "      <td>0</td>\n",
       "      <td>0</td>\n",
       "      <td>0</td>\n",
       "      <td>...</td>\n",
       "      <td>0</td>\n",
       "      <td>0</td>\n",
       "      <td>0</td>\n",
       "      <td>0</td>\n",
       "      <td>0</td>\n",
       "      <td>0</td>\n",
       "      <td>0</td>\n",
       "      <td>0</td>\n",
       "      <td>0</td>\n",
       "      <td>1</td>\n",
       "    </tr>\n",
       "    <tr>\n",
       "      <th>159</th>\n",
       "      <td>0</td>\n",
       "      <td>0</td>\n",
       "      <td>0</td>\n",
       "      <td>0</td>\n",
       "      <td>0</td>\n",
       "      <td>0</td>\n",
       "      <td>0</td>\n",
       "      <td>0</td>\n",
       "      <td>0</td>\n",
       "      <td>0</td>\n",
       "      <td>...</td>\n",
       "      <td>0</td>\n",
       "      <td>0</td>\n",
       "      <td>0</td>\n",
       "      <td>0</td>\n",
       "      <td>0</td>\n",
       "      <td>0</td>\n",
       "      <td>0</td>\n",
       "      <td>0</td>\n",
       "      <td>0</td>\n",
       "      <td>0</td>\n",
       "    </tr>\n",
       "    <tr>\n",
       "      <th>160</th>\n",
       "      <td>0</td>\n",
       "      <td>0</td>\n",
       "      <td>0</td>\n",
       "      <td>0</td>\n",
       "      <td>0</td>\n",
       "      <td>0</td>\n",
       "      <td>0</td>\n",
       "      <td>0</td>\n",
       "      <td>0</td>\n",
       "      <td>0</td>\n",
       "      <td>...</td>\n",
       "      <td>0</td>\n",
       "      <td>0</td>\n",
       "      <td>0</td>\n",
       "      <td>0</td>\n",
       "      <td>0</td>\n",
       "      <td>0</td>\n",
       "      <td>0</td>\n",
       "      <td>0</td>\n",
       "      <td>0</td>\n",
       "      <td>0</td>\n",
       "    </tr>\n",
       "  </tbody>\n",
       "</table>\n",
       "<p>161 rows × 2387 columns</p>\n",
       "</div>"
      ],
      "text/plain": [
       "     абонемент  абсолютн  автобус  автомобил  авторск  агапкин  агент  \\\n",
       "0            0         0        0          0        0        0      0   \n",
       "1            0         0        0          0        0        0      0   \n",
       "2            0         0        0          0        0        0      0   \n",
       "3            0         0        0          0        1        0      0   \n",
       "4            0         0        0          0        0        0      0   \n",
       "..         ...       ...      ...        ...      ...      ...    ...   \n",
       "156          0         0        0          0        0        0      0   \n",
       "157          0         0        0          0        0        0      0   \n",
       "158          0         0        2          0        0        0      0   \n",
       "159          0         0        0          0        0        0      0   \n",
       "160          0         0        0          0        0        0      0   \n",
       "\n",
       "     агентск  агентств  агличанин  ...  юрист  ютуб  яв  явля  язык  яковлев  \\\n",
       "0          0         0          0  ...      0     0   0     0     0        0   \n",
       "1          0         0          0  ...      0     0   0     0     0        0   \n",
       "2          0         0          0  ...      0     0   0     0     0        0   \n",
       "3          1         0          0  ...      0     0   0     0     0        0   \n",
       "4          0         0          0  ...      0     0   0     0     0        0   \n",
       "..       ...       ...        ...  ...    ...   ...  ..   ...   ...      ...   \n",
       "156        0         0          0  ...      0     0   0     0     0        0   \n",
       "157        0         0          0  ...      0     0   0     0     0        0   \n",
       "158        0         0          0  ...      0     0   0     0     0        0   \n",
       "159        0         0          0  ...      0     0   0     0     0        0   \n",
       "160        0         0          0  ...      0     0   0     0     0        0   \n",
       "\n",
       "     январ  яндексдиск  япон  ярк  \n",
       "0        0           0     0    0  \n",
       "1        0           0     0    0  \n",
       "2        0           0     0    2  \n",
       "3        0           0     0    0  \n",
       "4        0           0     0    0  \n",
       "..     ...         ...   ...  ...  \n",
       "156      0           0     0    0  \n",
       "157      0           0     0    0  \n",
       "158      0           0     0    1  \n",
       "159      0           0     0    0  \n",
       "160      0           0     0    0  \n",
       "\n",
       "[161 rows x 2387 columns]"
      ]
     },
     "execution_count": 15,
     "metadata": {},
     "output_type": "execute_result"
    }
   ],
   "source": [
    "train_x"
   ]
  },
  {
   "cell_type": "code",
   "execution_count": 16,
   "metadata": {},
   "outputs": [
    {
     "name": "stdout",
     "output_type": "stream",
     "text": [
      "CPU times: user 5.78 ms, sys: 1.98 ms, total: 7.77 ms\n",
      "Wall time: 7.39 ms\n"
     ]
    },
    {
     "data": {
      "text/plain": [
       "LogisticRegression(C=1.0, class_weight=None, dual=False, fit_intercept=True,\n",
       "                   intercept_scaling=1, l1_ratio=None, max_iter=100,\n",
       "                   multi_class='auto', n_jobs=None, penalty='l2',\n",
       "                   random_state=17, solver='liblinear', tol=0.0001, verbose=0,\n",
       "                   warm_start=False)"
      ]
     },
     "execution_count": 16,
     "metadata": {},
     "output_type": "execute_result"
    }
   ],
   "source": [
    "%%time\n",
    "logit = LogisticRegression(random_state=17, solver='liblinear')\n",
    "logit.fit(train_x, train_y)"
   ]
  },
  {
   "cell_type": "markdown",
   "metadata": {},
   "source": [
    "### Анализ модели"
   ]
  },
  {
   "cell_type": "markdown",
   "metadata": {},
   "source": [
    "##### Доли правильных ответов на обучающей и тестовой выборках"
   ]
  },
  {
   "cell_type": "code",
   "execution_count": 17,
   "metadata": {},
   "outputs": [
    {
     "data": {
      "text/plain": [
       "(1.0, 0.928)"
      ]
     },
     "execution_count": 17,
     "metadata": {},
     "output_type": "execute_result"
    }
   ],
   "source": [
    "round(logit.score(train_x, train_y), 3), round(logit.score(test_x, test_y), 3),"
   ]
  },
  {
   "cell_type": "code",
   "execution_count": 18,
   "metadata": {},
   "outputs": [
    {
     "name": "stdout",
     "output_type": "stream",
     "text": [
      "Качество модели относительно тестовой выборки: 0.9101382488479263\n"
     ]
    }
   ],
   "source": [
    "valid_pred = logit.predict_proba(test_x)[:,1]\n",
    "roc_auc = roc_auc_score(test_y, valid_pred)\n",
    "print('Качество модели относительно тестовой выборки: ' + str(roc_auc))"
   ]
  },
  {
   "cell_type": "markdown",
   "metadata": {},
   "source": [
    "##### Коэффициенты модели"
   ]
  },
  {
   "cell_type": "code",
   "execution_count": 19,
   "metadata": {},
   "outputs": [
    {
     "data": {
      "image/png": "[encoded data removed]",
      "text/plain": [
       "<Figure size 1440x360 with 1 Axes>"
      ]
     },
     "metadata": {
      "needs_background": "light"
     },
     "output_type": "display_data"
    }
   ],
   "source": [
    "n_top_features = 20\n",
    "# get coefficients with large absolute values \n",
    "coef = logit.coef_.ravel()\n",
    "positive_coefficients = np.argsort(coef)[-n_top_features:]\n",
    "negative_coefficients = np.argsort(coef)[:n_top_features]\n",
    "interesting_coefficients = np.hstack([negative_coefficients, positive_coefficients])\n",
    "\n",
    "# plot them\n",
    "plt.figure(figsize=(20, 5))\n",
    "colors = [\"red\" if c < 0 else \"blue\" for c in coef[interesting_coefficients]]\n",
    "plt.bar(np.arange(2 * n_top_features), coef[interesting_coefficients], color=colors)\n",
    "feature_names = np.array(feature_names)\n",
    "plt.xticks(np.arange(1, 1 + 2 * n_top_features), feature_names[interesting_coefficients], rotation=60, ha=\"right\");"
   ]
  },
  {
   "cell_type": "code",
   "execution_count": 20,
   "metadata": {},
   "outputs": [],
   "source": [
    "# порождаем данные\n",
    "rng = np.random.RandomState(0)\n",
    "X = rng.randn(200, 2)\n",
    "y = np.logical_xor(X[:, 0] > 0, X[:, 1] > 0)"
   ]
  },
  {
   "cell_type": "code",
   "execution_count": 21,
   "metadata": {},
   "outputs": [
    {
     "data": {
      "image/png": "[encoded data removed]",
      "text/plain": [
       "<Figure size 432x288 with 1 Axes>"
      ]
     },
     "metadata": {
      "needs_background": "light"
     },
     "output_type": "display_data"
    }
   ],
   "source": [
    "plt.scatter(X[:, 0], X[:, 1], s=30, c=y, cmap=plt.cm.Paired);"
   ]
  },
  {
   "cell_type": "code",
   "execution_count": 22,
   "metadata": {},
   "outputs": [
    {
     "name": "stdout",
     "output_type": "stream",
     "text": [
      "Слова и коэффициенты с большими абсолютными значениями:\n",
      "1 - шо (2340)\n",
      "2 - кастинг (710)\n",
      "3 - заявк (581)\n",
      "4 - оплат (1184)\n",
      "5 - нов (1096)\n",
      "6 - окончан (1171)\n",
      "7 - участ (2217)\n",
      "8 - зрител (608)\n",
      "9 - бесплатн (83)\n",
      "10 - котор (807)\n",
      "11 - такж (2036)\n",
      "12 - зал (545)\n",
      "13 - занят (550)\n",
      "14 - город (329)\n",
      "15 - друг (461)\n",
      "16 - ждем (487)\n",
      "17 - возможн (224)\n",
      "18 - красив (813)\n",
      "19 - проживан (1602)\n",
      "20 - будут (128)\n",
      "21 - участник (2220)\n",
      "22 - лс (878)\n",
      "23 - всем (251)\n",
      "24 - руб (1768)\n",
      "25 - кажд (688)\n",
      "26 - тнт (2111)\n",
      "27 - мужчин (992)\n",
      "28 - дне (421)\n",
      "29 - реалит (1706)\n",
      "30 - указа (2175)\n",
      "31 - месяц (940)\n",
      "32 - связ (1813)\n",
      "33 - жизн (509)\n",
      "34 - вопрос (237)\n",
      "35 - укаж (2174)\n",
      "36 - судебн (2001)\n",
      "37 - состо (1923)\n",
      "38 - пиш (1330)\n",
      "39 - форм (2254)\n",
      "40 - табличк (2032)\n"
     ]
    }
   ],
   "source": [
    "n_top_features = 40\n",
    "coef = logit.coef_.ravel() #Функция ravel() возвращает сжатый до одной оси массив.\n",
    "coefficients = np.argsort(coef)\n",
    "coefficients = coefficients[-n_top_features:]\n",
    "coefficients = coefficients[::-1]\n",
    "feature_names[interesting_coefficients]\n",
    "\n",
    "index = 0\n",
    "print(\"Слова и коэффициенты с большими абсолютными значениями:\")\n",
    "for c in coefficients:\n",
    "    index = index + 1\n",
    "    name = feature_names[c]\n",
    "    print(str(index) + \" - \" + name + \" (\" + str(c) + \")\")\n",
    "\n"
   ]
  },
  {
   "cell_type": "markdown",
   "metadata": {},
   "source": [
    "### Првоерка модели на данных "
   ]
  },
  {
   "cell_type": "code",
   "execution_count": 25,
   "metadata": {},
   "outputs": [
    {
     "name": "stdout",
     "output_type": "stream",
     "text": [
      "Вероятность - текст\n",
      "0.46227402738867546 : Требуется актер для съемки в кино ...\n",
      "0.4748771329513087 : тв шоу для актеров ...\n",
      "0.4748771329513087 : съемка для тв кулинарное шоу требуются ...\n"
     ]
    }
   ],
   "source": [
    "texts = [\n",
    "    \"Требуется актер для съемки в кино ...\", \n",
    "    \"тв шоу для актеров ...\",\n",
    "    \"съемка для тв кулинарное шоу требуются ...\",\n",
    "]\n",
    "result_x = train_x = pd.DataFrame(data=vectorizer.transform(texts).toarray(), columns=feature_names)\n",
    "result = logit.predict_proba(result_x)\n",
    "print(\"Вероятность - текст\")\n",
    "for i in range(0, len(texts)):\n",
    "    print(str(result[i][1]) + \" : \" + texts[i])"
   ]
  },
  {
   "cell_type": "code",
   "execution_count": null,
   "metadata": {},
   "outputs": [],
   "source": []
  },
  {
   "cell_type": "code",
   "execution_count": null,
   "metadata": {},
   "outputs": [],
   "source": []
  },
  {
   "cell_type": "code",
   "execution_count": null,
   "metadata": {},
   "outputs": [],
   "source": []
  }
 ],
 "metadata": {
  "kernelspec": {
   "display_name": "Python 3",
   "language": "python",
   "name": "python3"
  },
  "language_info": {
   "codemirror_mode": {
    "name": "ipython",
    "version": 3
   },
   "file_extension": ".py",
   "mimetype": "text/x-python",
   "name": "python",
   "nbconvert_exporter": "python",
   "pygments_lexer": "ipython3",
   "version": "3.8.6"
  }
 },
 "nbformat": 4,
 "nbformat_minor": 4
}
