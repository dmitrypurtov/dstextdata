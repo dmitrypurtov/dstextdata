{
 "cells": [
  {
   "cell_type": "code",
   "execution_count": 67,
   "metadata": {},
   "outputs": [],
   "source": [
    "from __future__ import division, print_function\n",
    "# отключим всякие предупреждения Anaconda\n",
    "import warnings\n",
    "warnings.filterwarnings('ignore')\n",
    "%matplotlib inline\n",
    "from matplotlib import pyplot as plt\n",
    "import seaborn as sns\n",
    "\n",
    "import json\n",
    "import numpy as np\n",
    "import pandas as pd\n",
    "from sklearn.feature_extraction.text import CountVectorizer\n",
    "from sklearn.feature_extraction.text import TfidfVectorizer\n",
    "from sklearn.preprocessing import PolynomialFeatures\n",
    "from sklearn.pipeline import Pipeline\n",
    "from sklearn.preprocessing import StandardScaler\n",
    "from sklearn.linear_model import LogisticRegression, LogisticRegressionCV, SGDClassifier\n",
    "from sklearn.model_selection import validation_curve\n",
    "from sklearn.utils import shuffle"
   ]
  },
  {
   "cell_type": "markdown",
   "metadata": {},
   "source": [
    "### Кривые валидации и обучения"
   ]
  },
  {
   "cell_type": "code",
   "execution_count": 68,
   "metadata": {},
   "outputs": [],
   "source": [
    "#PATH_DATA = './data/data_part.json'\n",
    "PATH_DATA = './data/data.json'\n",
    "TRAIN_PERCENT = 10\n",
    "Y_COLUMN = 'TVShow'\n",
    "X_COLUMN = 'Text'"
   ]
  },
  {
   "cell_type": "code",
   "execution_count": 69,
   "metadata": {},
   "outputs": [
    {
     "data": {
      "text/plain": [
       "((5336, 2), (549, 2), (4787, 2))"
      ]
     },
     "execution_count": 69,
     "metadata": {},
     "output_type": "execute_result"
    }
   ],
   "source": [
    "dataRead = []\n",
    "with open(PATH_DATA, 'r', encoding='utf-8') as jsonfile:    \n",
    "    dataRead = json.load(jsonfile)\n",
    "    \n",
    "data_all = pd.DataFrame(data=dataRead, columns = [Y_COLUMN, X_COLUMN])\n",
    "data_positive = pd.DataFrame(data=data_all.loc[data_all[Y_COLUMN] == 1])\n",
    "data_negative = pd.DataFrame(data=data_all.loc[data_all[Y_COLUMN] == 0])\n",
    "\n",
    "data_all.shape, data_positive.shape, data_negative.shape"
   ]
  },
  {
   "cell_type": "code",
   "execution_count": 70,
   "metadata": {},
   "outputs": [
    {
     "data": {
      "text/plain": [
       "(   TVShow                                               Text\n",
       " 0       0  мужчин актер съемок клип съемк клип ищ геро му...\n",
       " 1       0  вниман москв т взлет ориентировочн девушк лет ...\n",
       " 2       0  х ф данил козловск пада аист мужчин лет рост р...\n",
       " 3       0  нов шанс попаст кастинг супер телевикторин уга...\n",
       " 4       0  кастинг июл девушек размер одежд парн работ ию...,\n",
       "      TVShow                                               Text\n",
       " 41        1  август москв вегас фина призов фонд рубл разыг...\n",
       " 44        1  молод активн амбициозн свободн комплекс свобод...\n",
       " 51        1  яхт любв топов холостяк легендарн проект дом к...\n",
       " 53        1  информац парн лет ищ геро нов ярк приключенчес...\n",
       " 635       1  крокус сит состо сь мка концерт финальн отборо...,\n",
       "    TVShow                                               Text\n",
       " 0       0  мужчин актер съемок клип съемк клип ищ геро му...\n",
       " 1       0  вниман москв т взлет ориентировочн девушк лет ...\n",
       " 2       0  х ф данил козловск пада аист мужчин лет рост р...\n",
       " 3       0  нов шанс попаст кастинг супер телевикторин уга...\n",
       " 4       0  кастинг июл девушек размер одежд парн работ ию...)"
      ]
     },
     "execution_count": 70,
     "metadata": {},
     "output_type": "execute_result"
    }
   ],
   "source": [
    "data_all.head(), data_positive.head(), data_negative.head(), "
   ]
  },
  {
   "cell_type": "code",
   "execution_count": 88,
   "metadata": {},
   "outputs": [
    {
     "data": {
      "text/html": [
       "<div>\n",
       "<style scoped>\n",
       "    .dataframe tbody tr th:only-of-type {\n",
       "        vertical-align: middle;\n",
       "    }\n",
       "\n",
       "    .dataframe tbody tr th {\n",
       "        vertical-align: top;\n",
       "    }\n",
       "\n",
       "    .dataframe thead th {\n",
       "        text-align: right;\n",
       "    }\n",
       "</style>\n",
       "<table border=\"1\" class=\"dataframe\">\n",
       "  <thead>\n",
       "    <tr style=\"text-align: right;\">\n",
       "      <th></th>\n",
       "      <th>TVShow</th>\n",
       "      <th>Text</th>\n",
       "    </tr>\n",
       "  </thead>\n",
       "  <tbody>\n",
       "    <tr>\n",
       "      <th>2199</th>\n",
       "      <td>0</td>\n",
       "      <td>срочн москв проект бн треб мужчин сюжет работн...</td>\n",
       "    </tr>\n",
       "    <tr>\n",
       "      <th>4631</th>\n",
       "      <td>0</td>\n",
       "      <td>чита внимательн конц заполня пункт заявк заявк...</td>\n",
       "    </tr>\n",
       "    <tr>\n",
       "      <th>1804</th>\n",
       "      <td>0</td>\n",
       "      <td>ноябр вечеринк нужн парн девушк тайминг танцев...</td>\n",
       "    </tr>\n",
       "    <tr>\n",
       "      <th>3709</th>\n",
       "      <td>0</td>\n",
       "      <td>треб актер второстепен рол съемок дипломн коро...</td>\n",
       "    </tr>\n",
       "    <tr>\n",
       "      <th>4865</th>\n",
       "      <td>0</td>\n",
       "      <td>нуж вокалист игра гитар дуэт саксофонист посто...</td>\n",
       "    </tr>\n",
       "  </tbody>\n",
       "</table>\n",
       "</div>"
      ],
      "text/plain": [
       "      TVShow                                               Text\n",
       "2199       0  срочн москв проект бн треб мужчин сюжет работн...\n",
       "4631       0  чита внимательн конц заполня пункт заявк заявк...\n",
       "1804       0  ноябр вечеринк нужн парн девушк тайминг танцев...\n",
       "3709       0  треб актер второстепен рол съемок дипломн коро...\n",
       "4865       0  нуж вокалист игра гитар дуэт саксофонист посто..."
      ]
     },
     "execution_count": 88,
     "metadata": {},
     "output_type": "execute_result"
    }
   ],
   "source": [
    "data = pd.DataFrame()\n",
    "data = data.append(data_positive.sample(n=549))\n",
    "data = data.append(data_negative.sample(n=1000))\n",
    "\n",
    "data = shuffle(data)\n",
    "data.head()"
   ]
  },
  {
   "cell_type": "code",
   "execution_count": null,
   "metadata": {},
   "outputs": [],
   "source": []
  },
  {
   "cell_type": "code",
   "execution_count": 89,
   "metadata": {},
   "outputs": [
    {
     "data": {
      "text/plain": [
       "((1549,), (1549,))"
      ]
     },
     "execution_count": 89,
     "metadata": {},
     "output_type": "execute_result"
    }
   ],
   "source": [
    "data_x = data[X_COLUMN]\n",
    "data_y = data[Y_COLUMN]\n",
    "data_x.shape, data_y.shape"
   ]
  },
  {
   "cell_type": "code",
   "execution_count": 90,
   "metadata": {},
   "outputs": [
    {
     "data": {
      "text/plain": [
       "((1549,), (1549, 8338))"
      ]
     },
     "execution_count": 90,
     "metadata": {},
     "output_type": "execute_result"
    }
   ],
   "source": [
    "model_vectorizer = CountVectorizer()\n",
    "vectorizer = model_vectorizer.fit(data_x)\n",
    "feature_names = model_vectorizer.get_feature_names()\n",
    "\n",
    "X = pd.DataFrame(data=vectorizer.transform(data_x).toarray(), columns=feature_names)\n",
    "Y = data_y\n",
    "X.shape, Y.shape\n",
    "\n",
    "Y = Y.to_numpy()\n",
    "X = X.to_numpy()\n",
    "Y.shape, X.shape\n",
    "\n"
   ]
  },
  {
   "cell_type": "code",
   "execution_count": 91,
   "metadata": {},
   "outputs": [
    {
     "name": "stdout",
     "output_type": "stream",
     "text": [
      "CPU times: user 926 ms, sys: 133 ms, total: 1.06 s\n",
      "Wall time: 29min 40s\n"
     ]
    }
   ],
   "source": [
    "%%time\n",
    "alphas = np.logspace(0, 1, 100)\n",
    "logit = LogisticRegression(random_state=17, solver='liblinear')\n",
    "logit_pipe = Pipeline(steps=[('scaler', StandardScaler()), ('clf', logit)])\n",
    "\n",
    "val_train, val_test  = validation_curve(estimator=logit_pipe, X=X, y=Y, param_name=\"clf__C\", param_range=alphas,\n",
    "        cv=5, scoring=\"roc_auc\", n_jobs=-1)\n"
   ]
  },
  {
   "cell_type": "code",
   "execution_count": 92,
   "metadata": {},
   "outputs": [
    {
     "data": {
      "image/png": "[encoded data removed]",
      "text/plain": [
       "<Figure size 432x288 with 1 Axes>"
      ]
     },
     "metadata": {
      "needs_background": "light"
     },
     "output_type": "display_data"
    }
   ],
   "source": [
    "def plot_with_err(x, data, **kwargs):\n",
    "    mu, std = data.mean(1), data.std(1)\n",
    "    lines = plt.plot(x, mu, '-', **kwargs)\n",
    "    plt.fill_between(x, mu - std, mu + std, edgecolor='none',\n",
    "                     facecolor=lines[0].get_color(), alpha=0.2)\n",
    "\n",
    "plot_with_err(alphas, val_train, label='training scores')\n",
    "plot_with_err(alphas, val_test, label='validation scores')\n",
    "plt.xlabel(r'$\\alpha$'); plt.ylabel('ROC AUC')\n",
    "plt.legend();"
   ]
  },
  {
   "cell_type": "code",
   "execution_count": 93,
   "metadata": {},
   "outputs": [],
   "source": [
    "from sklearn.model_selection import learning_curve\n",
    "\n",
    "def plot_learning_curve(alpha=0.01):\n",
    "    train_sizes = np.linspace(0.05, 1, 10)\n",
    "    logit_pipe = Pipeline([('scaler', StandardScaler()), ('clf', LogisticRegression(random_state=17, solver='liblinear', C=alpha))])\n",
    "    N_train, val_train, val_test = learning_curve(logit_pipe,\n",
    "                                                  X, Y, train_sizes=train_sizes, cv=5,\n",
    "                                                  scoring='roc_auc')\n",
    "    plot_with_err(N_train, val_train, label='training scores')\n",
    "    plot_with_err(N_train, val_test, label='validation scores')\n",
    "    plt.xlabel('Training Set Size'); plt.ylabel('AUC')\n",
    "    plt.legend()"
   ]
  },
  {
   "cell_type": "code",
   "execution_count": 94,
   "metadata": {},
   "outputs": [
    {
     "data": {
      "image/png": "[encoded data removed]",
      "text/plain": [
       "<Figure size 432x288 with 1 Axes>"
      ]
     },
     "metadata": {
      "needs_background": "light"
     },
     "output_type": "display_data"
    }
   ],
   "source": [
    "plot_learning_curve(alpha=0.95)"
   ]
  },
  {
   "cell_type": "code",
   "execution_count": null,
   "metadata": {},
   "outputs": [],
   "source": []
  }
 ],
 "metadata": {
  "kernelspec": {
   "display_name": "Python 3",
   "language": "python",
   "name": "python3"
  },
  "language_info": {
   "codemirror_mode": {
    "name": "ipython",
    "version": 3
   },
   "file_extension": ".py",
   "mimetype": "text/x-python",
   "name": "python",
   "nbconvert_exporter": "python",
   "pygments_lexer": "ipython3",
   "version": "3.7.6"
  }
 },
 "nbformat": 4,
 "nbformat_minor": 4
}
