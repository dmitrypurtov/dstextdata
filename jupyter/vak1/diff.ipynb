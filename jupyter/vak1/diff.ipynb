{
 "cells": [
  {
   "cell_type": "code",
   "execution_count": 181,
   "metadata": {},
   "outputs": [
    {
     "name": "stdout",
     "output_type": "stream",
     "text": [
      "Requirement already satisfied: nltk in /opt/conda/lib/python3.8/site-packages (3.5)\n",
      "Requirement already satisfied: numpy in /opt/conda/lib/python3.8/site-packages (1.19.2)\n",
      "Requirement already satisfied: pymorphy2 in /opt/conda/lib/python3.8/site-packages (0.9.1)\n",
      "Requirement already satisfied: click in /opt/conda/lib/python3.8/site-packages (from nltk) (7.1.2)\n",
      "Requirement already satisfied: regex in /opt/conda/lib/python3.8/site-packages (from nltk) (2021.3.17)\n",
      "Requirement already satisfied: joblib in /opt/conda/lib/python3.8/site-packages (from nltk) (0.17.0)\n",
      "Requirement already satisfied: tqdm in /opt/conda/lib/python3.8/site-packages (from nltk) (4.50.2)\n",
      "Requirement already satisfied: dawg-python>=0.7.1 in /opt/conda/lib/python3.8/site-packages (from pymorphy2) (0.7.2)\n",
      "Requirement already satisfied: pymorphy2-dicts-ru<3.0,>=2.4 in /opt/conda/lib/python3.8/site-packages (from pymorphy2) (2.4.417127.4579844)\n",
      "Requirement already satisfied: docopt>=0.6 in /opt/conda/lib/python3.8/site-packages (from pymorphy2) (0.6.2)\n",
      "Note: you may need to restart the kernel to use updated packages.\n"
     ]
    }
   ],
   "source": [
    "pip install nltk numpy pymorphy2"
   ]
  },
  {
   "cell_type": "code",
   "execution_count": 182,
   "metadata": {},
   "outputs": [
    {
     "name": "stderr",
     "output_type": "stream",
     "text": [
      "[nltk_data] Downloading package punkt to /home/jovyan/nltk_data...\n",
      "[nltk_data]   Package punkt is already up-to-date!\n",
      "[nltk_data] Downloading package stopwords to /home/jovyan/nltk_data...\n",
      "[nltk_data]   Package stopwords is already up-to-date!\n"
     ]
    },
    {
     "data": {
      "text/plain": [
       "True"
      ]
     },
     "execution_count": 182,
     "metadata": {},
     "output_type": "execute_result"
    }
   ],
   "source": [
    "import json\n",
    "import re\n",
    "import nltk\n",
    "import pymorphy2\n",
    "import pickle\n",
    "import pandas as pd\n",
    "from sklearn.feature_extraction.text import TfidfVectorizer\n",
    "from sklearn.linear_model import LogisticRegression\n",
    "from sklearn.linear_model import LogisticRegressionCV\n",
    "from sklearn.metrics import roc_auc_score\n",
    "from sklearn.multiclass import OneVsRestClassifier\n",
    "from sklearn.svm import LinearSVC\n",
    "\n",
    "nltk.download('punkt');\n",
    "nltk.download('stopwords')"
   ]
  },
  {
   "cell_type": "code",
   "execution_count": 111,
   "metadata": {},
   "outputs": [],
   "source": [
    "PATH_DATA = './cyberleninka_0.jsonlines'\n",
    "LANGUAGE = 'russian'\n",
    "\n",
    "morph = pymorphy2.MorphAnalyzer()\n",
    "stopwords = nltk.corpus.stopwords.words(LANGUAGE)\n",
    "stemmer = nltk.stem.snowball.SnowballStemmer(LANGUAGE)"
   ]
  },
  {
   "cell_type": "code",
   "execution_count": 130,
   "metadata": {},
   "outputs": [
    {
     "name": "stdout",
     "output_type": "stream",
     "text": [
      "CPU times: user 2min 58s, sys: 2.06 s, total: 3min\n",
      "Wall time: 3min 1s\n"
     ]
    }
   ],
   "source": [
    "%%time\n",
    "\n",
    "def removeSpecialChar(text):\n",
    "    teg_re = re.compile(r'[^А-Яа-я]+')\n",
    "    return teg_re.sub(' ', text)\n",
    "\n",
    "def isMeaningWord(string):\n",
    "    p = morph.parse(string)[0]\n",
    "    if p.tag.POS == 'INTJ' or p.tag.POS == 'PRCL' or p.tag.POS == 'CONJ' or p.tag.POS == 'PREP' or p.tag.POS == 'PRED' or p.tag.POS == 'NPRO':\n",
    "        return False\n",
    "    return True\n",
    "\n",
    "def tokenizeText(text):\n",
    "    morph = pymorphy2.MorphAnalyzer()\n",
    "    text = removeSpecialChar(text)\n",
    "    sentences = nltk.word_tokenize(text, language=LANGUAGE)\n",
    "    tokens = []\n",
    "    for val in sentences:\n",
    "        val = val.lower()\n",
    "        if val in stopwords:\n",
    "            continue\n",
    "        if isMeaningWord(val) == False:\n",
    "            continue\n",
    "        val = stemmer.stem(val)\n",
    "        tokens.append(val)\n",
    "    return ' '.join(tokens)\n",
    "\n",
    "def removeEn(data):\n",
    "    res = []\n",
    "    lower = set('абвгдеёжзийклмнопрстуфхцчшщъыьэюя')\n",
    "    for val in data:\n",
    "        val = val.lower()\n",
    "        if lower.intersection(val.lower()) != set():\n",
    "             res.append(val)\n",
    "    return res\n",
    "\n",
    "\n",
    "dataContent = []\n",
    "dataKeywords = []\n",
    "file = open(PATH_DATA, 'r')\n",
    "line = file.readline()\n",
    "count = 300\n",
    "i = 0\n",
    "while line:\n",
    "    append = {}\n",
    "    loaded_json = json.loads(line)\n",
    "    description = loaded_json['content']\n",
    "    description = tokenizeText(description)\n",
    "    dataContent.append(description)\n",
    "    \n",
    "    keywords = loaded_json['keywords']\n",
    "    keywords = removeEn(keywords)\n",
    "    dataKeywords.append(keywords)\n",
    "    line = file.readline()\n",
    "    i = i + 1\n",
    "    if i >= count:\n",
    "        break\n",
    "file.close()"
   ]
  },
  {
   "cell_type": "code",
   "execution_count": null,
   "metadata": {},
   "outputs": [],
   "source": []
  },
  {
   "cell_type": "code",
   "execution_count": 131,
   "metadata": {},
   "outputs": [],
   "source": [
    "vectorizer = TfidfVectorizer()\n",
    "X = vectorizer.fit_transform(dataContent)"
   ]
  },
  {
   "cell_type": "code",
   "execution_count": 132,
   "metadata": {},
   "outputs": [
    {
     "name": "stdout",
     "output_type": "stream",
     "text": [
      "['аб', 'абагурск', 'абад', 'абазат', 'абазатов', 'абалкин', 'абат', 'абашевск', 'абашевц', 'аббат']\n"
     ]
    }
   ],
   "source": [
    "print(vectorizer.get_feature_names()[:10])"
   ]
  },
  {
   "cell_type": "code",
   "execution_count": 69,
   "metadata": {},
   "outputs": [],
   "source": []
  },
  {
   "cell_type": "code",
   "execution_count": 70,
   "metadata": {},
   "outputs": [],
   "source": []
  },
  {
   "cell_type": "code",
   "execution_count": 162,
   "metadata": {},
   "outputs": [],
   "source": [
    "data_x = dataContent\n",
    "data_y = keywords"
   ]
  },
  {
   "cell_type": "code",
   "execution_count": 176,
   "metadata": {},
   "outputs": [],
   "source": [
    "TRAIN_PERCENT = 70\n",
    "delimiter = int(len(data_y) * TRAIN_PERCENT / 100)\n",
    "\n",
    "train_x = data_x[:delimiter]\n",
    "test_x = data_x[delimiter:]\n",
    "train_y = data_y[:delimiter]\n",
    "test_y = data_y[delimiter:]"
   ]
  },
  {
   "cell_type": "code",
   "execution_count": 205,
   "metadata": {},
   "outputs": [],
   "source": [
    "model_vectorizer = TfidfVectorizer()\n",
    "vectorizer = model_vectorizer.fit(train_x)\n",
    "feature_names = model_vectorizer.get_feature_names()"
   ]
  },
  {
   "cell_type": "code",
   "execution_count": 183,
   "metadata": {},
   "outputs": [],
   "source": [
    "train_x = pd.DataFrame(data=vectorizer.transform(train_x).toarray(), columns=feature_names)\n",
    "train_y = pd.DataFrame(data=vectorizer.transform(train_y).toarray(), columns=feature_names)\n",
    "\n",
    "test_x = pd.DataFrame(data=vectorizer.transform(test_x).toarray(), columns=feature_names)\n",
    "test_y = pd.DataFrame(data=vectorizer.transform(test_y).toarray(), columns=feature_names)"
   ]
  },
  {
   "cell_type": "code",
   "execution_count": 184,
   "metadata": {},
   "outputs": [
    {
     "data": {
      "text/plain": [
       "(3047, 3047)"
      ]
     },
     "execution_count": 184,
     "metadata": {},
     "output_type": "execute_result"
    }
   ],
   "source": [
    "test_x.shape"
   ]
  },
  {
   "cell_type": "code",
   "execution_count": 186,
   "metadata": {},
   "outputs": [
    {
     "name": "stdout",
     "output_type": "stream",
     "text": [
      "CPU times: user 2min 55s, sys: 83.6 ms, total: 2min 55s\n",
      "Wall time: 2min 55s\n"
     ]
    },
    {
     "data": {
      "text/plain": [
       "OneVsRestClassifier(estimator=LinearSVC(random_state=17))"
      ]
     },
     "execution_count": 186,
     "metadata": {},
     "output_type": "execute_result"
    }
   ],
   "source": [
    "%%time\n",
    "logit =  OneVsRestClassifier(LinearSVC(random_state=17))\n",
    "logit.fit(train_x, train_y)\n"
   ]
  },
  {
   "cell_type": "code",
   "execution_count": 187,
   "metadata": {},
   "outputs": [
    {
     "data": {
      "text/plain": [
       "(1.0, 1.0)"
      ]
     },
     "execution_count": 187,
     "metadata": {},
     "output_type": "execute_result"
    }
   ],
   "source": [
    "round(logit.score(train_x, train_y), 3), round(logit.score(test_x, test_y), 3),"
   ]
  },
  {
   "cell_type": "code",
   "execution_count": 216,
   "metadata": {},
   "outputs": [],
   "source": [
    "testArr = []\n",
    "testArr.append(data_x[1])\n",
    "text = pd.DataFrame(data=vectorizer.transform(testArr).toarray(), columns=feature_names)"
   ]
  },
  {
   "cell_type": "code",
   "execution_count": 218,
   "metadata": {},
   "outputs": [],
   "source": [
    "predictArr = logit.predict(text)"
   ]
  },
  {
   "cell_type": "code",
   "execution_count": 223,
   "metadata": {},
   "outputs": [
    {
     "data": {
      "text/plain": [
       "((1, 3047), <function list.count(value, /)>)"
      ]
     },
     "execution_count": 223,
     "metadata": {},
     "output_type": "execute_result"
    }
   ],
   "source": [
    "predictArr.shape, feature_names.count"
   ]
  },
  {
   "cell_type": "code",
   "execution_count": 265,
   "metadata": {},
   "outputs": [
    {
     "data": {
      "text/plain": [
       "3047"
      ]
     },
     "execution_count": 265,
     "metadata": {},
     "output_type": "execute_result"
    }
   ],
   "source": [
    "intex = 0\n",
    "for item in predictArr[0]:\n",
    "    if item > 0:\n",
    "        break\n",
    "    intex = intex + 1\n",
    "intex"
   ]
  },
  {
   "cell_type": "code",
   "execution_count": 266,
   "metadata": {},
   "outputs": [
    {
     "data": {
      "text/plain": [
       "(3047, 3047)"
      ]
     },
     "execution_count": 266,
     "metadata": {},
     "output_type": "execute_result"
    }
   ],
   "source": [
    "len(feature_names), len(predictArr[0])"
   ]
  },
  {
   "cell_type": "code",
   "execution_count": 267,
   "metadata": {},
   "outputs": [
    {
     "data": {
      "text/plain": [
       "'ячейк'"
      ]
     },
     "execution_count": 267,
     "metadata": {},
     "output_type": "execute_result"
    }
   ],
   "source": [
    "feature_names[intex-1]"
   ]
  },
  {
   "cell_type": "code",
   "execution_count": 259,
   "metadata": {},
   "outputs": [
    {
     "data": {
      "text/plain": [
       "0"
      ]
     },
     "execution_count": 259,
     "metadata": {},
     "output_type": "execute_result"
    }
   ],
   "source": []
  },
  {
   "cell_type": "code",
   "execution_count": null,
   "metadata": {},
   "outputs": [],
   "source": []
  }
 ],
 "metadata": {
  "kernelspec": {
   "display_name": "Python 3",
   "language": "python",
   "name": "python3"
  },
  "language_info": {
   "codemirror_mode": {
    "name": "ipython",
    "version": 3
   },
   "file_extension": ".py",
   "mimetype": "text/x-python",
   "name": "python",
   "nbconvert_exporter": "python",
   "pygments_lexer": "ipython3",
   "version": "3.8.6"
  }
 },
 "nbformat": 4,
 "nbformat_minor": 4
}
