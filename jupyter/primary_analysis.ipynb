{
 "cells": [
  {
   "cell_type": "markdown",
   "metadata": {},
   "source": [
    "##### Установка сторонних модулей через pip"
   ]
  },
  {
   "cell_type": "code",
   "execution_count": 68,
   "metadata": {},
   "outputs": [
    {
     "name": "stdout",
     "output_type": "stream",
     "text": [
      "Requirement already satisfied: nltk in /opt/conda/lib/python3.7/site-packages (3.5)\n",
      "Requirement already satisfied: numpy in /opt/conda/lib/python3.7/site-packages (1.18.1)\n",
      "Requirement already satisfied: pymorphy2 in /opt/conda/lib/python3.7/site-packages (0.8)\n",
      "Requirement already satisfied: click in /opt/conda/lib/python3.7/site-packages (from nltk) (7.0)\n",
      "Requirement already satisfied: joblib in /opt/conda/lib/python3.7/site-packages (from nltk) (0.14.1)\n",
      "Requirement already satisfied: regex in /opt/conda/lib/python3.7/site-packages (from nltk) (2020.5.14)\n",
      "Requirement already satisfied: tqdm in /opt/conda/lib/python3.7/site-packages (from nltk) (4.43.0)\n",
      "Requirement already satisfied: pymorphy2-dicts<3.0,>=2.4 in /opt/conda/lib/python3.7/site-packages (from pymorphy2) (2.4.393442.3710985)\n",
      "Requirement already satisfied: docopt>=0.6 in /opt/conda/lib/python3.7/site-packages (from pymorphy2) (0.6.2)\n",
      "Requirement already satisfied: dawg-python>=0.7 in /opt/conda/lib/python3.7/site-packages (from pymorphy2) (0.7.2)\n",
      "Note: you may need to restart the kernel to use updated packages.\n"
     ]
    }
   ],
   "source": [
    "pip install nltk numpy pymorphy2"
   ]
  },
  {
   "cell_type": "markdown",
   "metadata": {},
   "source": [
    "##### Импорт библиотек"
   ]
  },
  {
   "cell_type": "code",
   "execution_count": 69,
   "metadata": {},
   "outputs": [
    {
     "name": "stderr",
     "output_type": "stream",
     "text": [
      "[nltk_data] Downloading package punkt to /home/jovyan/nltk_data...\n",
      "[nltk_data]   Package punkt is already up-to-date!\n"
     ]
    }
   ],
   "source": [
    "import json\n",
    "import re\n",
    "import nltk\n",
    "import pymorphy2\n",
    "import pickle\n",
    "\n",
    "nltk.download('punkt');\n",
    "\n",
    "PATH = './data/data.json'\n",
    "PATH_OBJECT = './data/data'"
   ]
  },
  {
   "cell_type": "markdown",
   "metadata": {},
   "source": [
    "##### Токенизация/первичный анализ\n",
    "1. Токенизация текста\n",
    "2. Приведение в нижний регистр\n",
    "2. Исключение спец символов и ангийского текста\n",
    "4. Исключение частей речи не несущих смысловой нагрузки (https://pymorphy2.readthedocs.io/en/latest/user/grammemes.html#russian-pos)"
   ]
  },
  {
   "cell_type": "code",
   "execution_count": 70,
   "metadata": {},
   "outputs": [],
   "source": [
    "def tokenize(text):\n",
    "    morph = pymorphy2.MorphAnalyzer()\n",
    "    sentences = nltk.word_tokenize(text, language=\"russian\")\n",
    "    tokens = []\n",
    "    for val in sentences:\n",
    "        val = val.lower()\n",
    "        if re.search(r'\\d', val) or re.search(r'[а-я]+', val):\n",
    "            p = morph.parse(val)[0]\n",
    "            if p.tag.POS != 'INTJ' and p.tag.POS != 'PRCL' and p.tag.POS != 'CONJ' and p.tag.POS != 'PREP' and p.tag.POS != 'PRED' and p.tag.POS != 'NPRO':\n",
    "                tokens.append(val)\n",
    "    return tokens"
   ]
  },
  {
   "cell_type": "markdown",
   "metadata": {},
   "source": [
    "##### Удаление HTML тегов"
   ]
  },
  {
   "cell_type": "code",
   "execution_count": 71,
   "metadata": {},
   "outputs": [],
   "source": [
    "def removeHtml(html):\n",
    "    teg_re = re.compile(r'<[^>]+>')\n",
    "    return teg_re.sub(' ', html)"
   ]
  },
  {
   "cell_type": "markdown",
   "metadata": {},
   "source": [
    "##### Чтение объекта из файла"
   ]
  },
  {
   "cell_type": "code",
   "execution_count": 72,
   "metadata": {},
   "outputs": [],
   "source": [
    "def readObjectFromFile():\n",
    "    filehandler = open(PATH_OBJECT, 'rb') \n",
    "    return pickle.load(filehandler)"
   ]
  },
  {
   "cell_type": "markdown",
   "metadata": {},
   "source": [
    "##### Запись объекта в файл"
   ]
  },
  {
   "cell_type": "code",
   "execution_count": 78,
   "metadata": {},
   "outputs": [],
   "source": [
    "def writeObjectFromFile(data):\n",
    "    filehandler = open(PATH_OBJECT, 'wb') \n",
    "    pickle.dump(data, filehandler)"
   ]
  },
  {
   "cell_type": "markdown",
   "metadata": {},
   "source": [
    "##### Создание массива текстов textsArr"
   ]
  },
  {
   "cell_type": "code",
   "execution_count": 75,
   "metadata": {},
   "outputs": [
    {
     "name": "stdout",
     "output_type": "stream",
     "text": [
      "Count texts: 5336\n",
      "CPU times: user 97.1 ms, sys: 5.14 ms, total: 102 ms\n",
      "Wall time: 98.5 ms\n"
     ]
    }
   ],
   "source": [
    "%%time\n",
    "textsArr = []\n",
    "file = open(PATH, 'r')\n",
    "line = file.readline()\n",
    "while line:\n",
    "    loaded_json = json.loads(line)\n",
    "    text = loaded_json['Description']\n",
    "    textsArr.append(text)\n",
    "    line = file.readline()\n",
    "file.close()\n",
    "\n",
    "print(\"Count texts: \" + str(len(textsArr)))"
   ]
  },
  {
   "cell_type": "markdown",
   "metadata": {},
   "source": [
    "##### Создание data - массив массива токенов"
   ]
  },
  {
   "cell_type": "code",
   "execution_count": 76,
   "metadata": {},
   "outputs": [
    {
     "name": "stdout",
     "output_type": "stream",
     "text": [
      "CPU times: user 5min 30s, sys: 13.2 s, total: 5min 43s\n",
      "Wall time: 5min 43s\n"
     ]
    }
   ],
   "source": [
    "%%time\n",
    "data = []\n",
    "for val in textsArr:\n",
    "    val = removeHtml(val)\n",
    "    val = tokenize(val)\n",
    "    data.append(val)"
   ]
  },
  {
   "cell_type": "markdown",
   "metadata": {},
   "source": [
    "##### Запись предобработанного объекта в файл"
   ]
  },
  {
   "cell_type": "code",
   "execution_count": 79,
   "metadata": {},
   "outputs": [],
   "source": [
    "writeObjectFromFile(data)"
   ]
  },
  {
   "cell_type": "code",
   "execution_count": null,
   "metadata": {},
   "outputs": [],
   "source": []
  }
 ],
 "metadata": {
  "kernelspec": {
   "display_name": "Python 3",
   "language": "python",
   "name": "python3"
  },
  "language_info": {
   "codemirror_mode": {
    "name": "ipython",
    "version": 3
   },
   "file_extension": ".py",
   "mimetype": "text/x-python",
   "name": "python",
   "nbconvert_exporter": "python",
   "pygments_lexer": "ipython3",
   "version": "3.7.6"
  }
 },
 "nbformat": 4,
 "nbformat_minor": 4
}
