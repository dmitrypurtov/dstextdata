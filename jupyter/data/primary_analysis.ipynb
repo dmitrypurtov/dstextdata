{
 "cells": [
  {
   "cell_type": "markdown",
   "metadata": {},
   "source": [
    "##### Установка сторонних модулей через pip"
   ]
  },
  {
   "cell_type": "code",
   "execution_count": 280,
   "metadata": {},
   "outputs": [
    {
     "name": "stdout",
     "output_type": "stream",
     "text": [
      "Requirement already satisfied: nltk in /opt/conda/lib/python3.7/site-packages (3.5)\n",
      "Requirement already satisfied: numpy in /opt/conda/lib/python3.7/site-packages (1.18.1)\n",
      "Requirement already satisfied: pymorphy2 in /opt/conda/lib/python3.7/site-packages (0.8)\n",
      "Requirement already satisfied: joblib in /opt/conda/lib/python3.7/site-packages (from nltk) (0.14.1)\n",
      "Requirement already satisfied: tqdm in /opt/conda/lib/python3.7/site-packages (from nltk) (4.43.0)\n",
      "Requirement already satisfied: click in /opt/conda/lib/python3.7/site-packages (from nltk) (7.0)\n",
      "Requirement already satisfied: regex in /opt/conda/lib/python3.7/site-packages (from nltk) (2020.5.14)\n",
      "Requirement already satisfied: pymorphy2-dicts<3.0,>=2.4 in /opt/conda/lib/python3.7/site-packages (from pymorphy2) (2.4.393442.3710985)\n",
      "Requirement already satisfied: dawg-python>=0.7 in /opt/conda/lib/python3.7/site-packages (from pymorphy2) (0.7.2)\n",
      "Requirement already satisfied: docopt>=0.6 in /opt/conda/lib/python3.7/site-packages (from pymorphy2) (0.6.2)\n",
      "Note: you may need to restart the kernel to use updated packages.\n"
     ]
    }
   ],
   "source": [
    "pip install nltk numpy pymorphy2"
   ]
  },
  {
   "cell_type": "markdown",
   "metadata": {},
   "source": [
    "##### Импорт библиотек"
   ]
  },
  {
   "cell_type": "code",
   "execution_count": 281,
   "metadata": {},
   "outputs": [
    {
     "name": "stderr",
     "output_type": "stream",
     "text": [
      "[nltk_data] Downloading package punkt to /home/jovyan/nltk_data...\n",
      "[nltk_data]   Package punkt is already up-to-date!\n",
      "[nltk_data] Downloading package stopwords to /home/jovyan/nltk_data...\n",
      "[nltk_data]   Package stopwords is already up-to-date!\n"
     ]
    },
    {
     "data": {
      "text/plain": [
       "True"
      ]
     },
     "execution_count": 281,
     "metadata": {},
     "output_type": "execute_result"
    }
   ],
   "source": [
    "import json\n",
    "import re\n",
    "import nltk\n",
    "import pymorphy2\n",
    "import pickle\n",
    "import pandas as pd\n",
    "\n",
    "nltk.download('punkt');\n",
    "nltk.download('stopwords')"
   ]
  },
  {
   "cell_type": "code",
   "execution_count": 282,
   "metadata": {},
   "outputs": [],
   "source": [
    "PATH = './data/offers/data_original.json'\n",
    "PATH_RESULT = './data/offers/data.json'\n",
    "LANGUAGE = 'russian'\n",
    "    \n",
    "morph = pymorphy2.MorphAnalyzer()\n",
    "stopwords = nltk.corpus.stopwords.words(LANGUAGE)\n",
    "stemmer = nltk.stem.snowball.SnowballStemmer(LANGUAGE)"
   ]
  },
  {
   "cell_type": "markdown",
   "metadata": {},
   "source": [
    "##### Удаление HTML тегов"
   ]
  },
  {
   "cell_type": "code",
   "execution_count": 283,
   "metadata": {},
   "outputs": [],
   "source": [
    "def removeHtml(html):\n",
    "    teg_re = re.compile(r'<[^>]+>')\n",
    "    return teg_re.sub(' ', html)"
   ]
  },
  {
   "cell_type": "markdown",
   "metadata": {},
   "source": [
    "##### Удаление demoji"
   ]
  },
  {
   "cell_type": "code",
   "execution_count": 284,
   "metadata": {},
   "outputs": [],
   "source": [
    "def removeEmoji(string):\n",
    "    emoji_pattern = re.compile(\"[\"\n",
    "                           u\"\\U0001F600-\\U0001F64F\"  # emoticons\n",
    "                           u\"\\U0001F300-\\U0001F5FF\"  # symbols & pictographs\n",
    "                           u\"\\U0001F680-\\U0001F6FF\"  # transport & map symbols\n",
    "                           u\"\\U0001F1E0-\\U0001F1FF\"  # flags (iOS)\n",
    "                           u\"\\U00002702-\\U000027B0\"\n",
    "                           u\"\\U000024C2-\\U0001F251\"\n",
    "                           \"]+\", flags=re.UNICODE)\n",
    "    return emoji_pattern.sub(r'', string)"
   ]
  },
  {
   "cell_type": "markdown",
   "metadata": {},
   "source": [
    "##### Удаление всего кроме букв русских"
   ]
  },
  {
   "cell_type": "code",
   "execution_count": 285,
   "metadata": {},
   "outputs": [],
   "source": [
    "def removeSpecialChar(text):\n",
    "    teg_re = re.compile(r'[^А-Яа-я]+')\n",
    "    return teg_re.sub(' ', text)"
   ]
  },
  {
   "cell_type": "markdown",
   "metadata": {},
   "source": [
    "##### Несет ли смысловую нагрузку слово"
   ]
  },
  {
   "cell_type": "code",
   "execution_count": 286,
   "metadata": {},
   "outputs": [],
   "source": [
    "def isMeaningWord(string):\n",
    "    p = morph.parse(val)[0]\n",
    "    if p.tag.POS == 'INTJ' or p.tag.POS == 'PRCL' or p.tag.POS == 'CONJ' or p.tag.POS == 'PREP' or p.tag.POS == 'PRED' or p.tag.POS == 'NPRO':\n",
    "        return False\n",
    "    return True"
   ]
  },
  {
   "cell_type": "code",
   "execution_count": 287,
   "metadata": {},
   "outputs": [],
   "source": [
    "def tokenizeText(text):\n",
    "    morph = pymorphy2.MorphAnalyzer()\n",
    "    text = removeHtml(text)\n",
    "    text = removeEmoji(text)\n",
    "    text = removeSpecialChar(text)\n",
    "    sentences = nltk.word_tokenize(text, language=LANGUAGE)\n",
    "    tokens = []\n",
    "    for val in sentences:\n",
    "        val = val.lower()\n",
    "        if val in stopwords:\n",
    "            continue\n",
    "        if isMeaningWord(val) == False:\n",
    "            continue\n",
    "        val = stemmer.stem(val)\n",
    "        tokens.append(val)\n",
    "    return ' '.join(tokens)"
   ]
  },
  {
   "cell_type": "code",
   "execution_count": 288,
   "metadata": {},
   "outputs": [
    {
     "name": "stdout",
     "output_type": "stream",
     "text": [
      "CPU times: user 103 ms, sys: 2.08 ms, total: 105 ms\n",
      "Wall time: 110 ms\n"
     ]
    }
   ],
   "source": [
    "%%time\n",
    "tagsFile = []\n",
    "file = open(PATH, 'r')\n",
    "line = file.readline()\n",
    "while line:\n",
    "    try:\n",
    "        loaded_json = json.loads(line)\n",
    "        tags = loaded_json['Tags']\n",
    "        if tags:\n",
    "            for val in tags:\n",
    "                tagsFile.append(val)\n",
    "    except KeyError as e:\n",
    "        tagsFile.append('Unknown')\n",
    "    line = file.readline()\n",
    "file.close()"
   ]
  },
  {
   "cell_type": "code",
   "execution_count": 289,
   "metadata": {},
   "outputs": [
    {
     "name": "stdout",
     "output_type": "stream",
     "text": [
      "Список тегов: {'Stylist', 'Visagiste', 'Unknown', 'Skilled', 'Advertising', 'Clip', 'Мale', 'Fashionshow', 'Videoshooting', 'Male', 'Photographer', 'Model', 'TVShow', 'Female', 'Photoshooting', 'Casting'}\n"
     ]
    }
   ],
   "source": [
    "uniqueTags = set(tagsFile)\n",
    "uniqueTags\n",
    "print(\"Список тегов: \" + str(uniqueTags))"
   ]
  },
  {
   "cell_type": "code",
   "execution_count": 290,
   "metadata": {},
   "outputs": [
    {
     "name": "stdout",
     "output_type": "stream",
     "text": [
      "CPU times: user 3min 44s, sys: 11.4 s, total: 3min 55s\n",
      "Wall time: 3min 55s\n"
     ]
    }
   ],
   "source": [
    "%%time\n",
    "dataFile = []\n",
    "file = open(PATH, 'r')\n",
    "line = file.readline()\n",
    "while line:\n",
    "    append = {}\n",
    "    for val in uniqueTags:\n",
    "        append[val] = 0\n",
    "        \n",
    "    loaded_json = json.loads(line)\n",
    "    description = loaded_json['Description']\n",
    "    description = tokenizeText(description)\n",
    "    append['Text'] = description\n",
    "    append['Unknown'] = 1\n",
    "    try:\n",
    "        tags = loaded_json['Tags']\n",
    "        if tags:\n",
    "            for val in tags:\n",
    "                append[val] = 1\n",
    "                append['Unknown'] = 0\n",
    "    except KeyError as e:\n",
    "        pass   \n",
    "    dataFile.append(append)\n",
    "    line = file.readline()\n",
    "file.close()"
   ]
  },
  {
   "cell_type": "code",
   "execution_count": 291,
   "metadata": {},
   "outputs": [],
   "source": [
    "with open(PATH_RESULT, 'w') as out:\n",
    "    out.write( json.dumps(dataFile, ensure_ascii=False))"
   ]
  },
  {
   "cell_type": "code",
   "execution_count": null,
   "metadata": {},
   "outputs": [],
   "source": []
  },
  {
   "cell_type": "code",
   "execution_count": 275,
   "metadata": {},
   "outputs": [],
   "source": [
    "dataRead = []\n",
    "with open(PATH_RESULT, 'r', encoding='utf-8') as jsonfile:    \n",
    "    dataRead = json.load(jsonfile)"
   ]
  },
  {
   "cell_type": "code",
   "execution_count": null,
   "metadata": {},
   "outputs": [],
   "source": []
  }
 ],
 "metadata": {
  "kernelspec": {
   "display_name": "Python 3",
   "language": "python",
   "name": "python3"
  },
  "language_info": {
   "codemirror_mode": {
    "name": "ipython",
    "version": 3
   },
   "file_extension": ".py",
   "mimetype": "text/x-python",
   "name": "python",
   "nbconvert_exporter": "python",
   "pygments_lexer": "ipython3",
   "version": "3.7.6"
  }
 },
 "nbformat": 4,
 "nbformat_minor": 4
}
